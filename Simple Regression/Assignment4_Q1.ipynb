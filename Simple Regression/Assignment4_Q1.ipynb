{
 "cells": [
  {
   "cell_type": "markdown",
   "id": "ce50d962-8aef-457c-bd06-85c608a44026",
   "metadata": {},
   "source": [
    "# Predict delivery time using sorting time "
   ]
  },
  {
   "cell_type": "markdown",
   "id": "0ce6420e-7e0d-4768-98c8-0a0d7506b18c",
   "metadata": {},
   "source": [
    "## Importing Relevant Libraries"
   ]
  },
  {
   "cell_type": "code",
   "execution_count": 106,
   "id": "15e648b4-73ec-45c2-88f4-20d77439df0c",
   "metadata": {},
   "outputs": [],
   "source": [
    "import pandas as pd\n",
    "import numpy as np\n",
    "import matplotlib.pyplot as plt\n",
    "import statsmodels.formula.api as smf\n",
    "from sklearn.linear_model import LinearRegression\n",
    "from sklearn.metrics import r2_score\n",
    "import scipy.stats as stats"
   ]
  },
  {
   "cell_type": "markdown",
   "id": "45f23629-7926-443c-a6d7-b2f71c85896b",
   "metadata": {},
   "source": [
    "## Importing Data and Prepare"
   ]
  },
  {
   "cell_type": "code",
   "execution_count": 146,
   "id": "9325762b-6afc-43d8-b342-f0fee05164cd",
   "metadata": {},
   "outputs": [
    {
     "data": {
      "text/html": [
       "<div>\n",
       "<style scoped>\n",
       "    .dataframe tbody tr th:only-of-type {\n",
       "        vertical-align: middle;\n",
       "    }\n",
       "\n",
       "    .dataframe tbody tr th {\n",
       "        vertical-align: top;\n",
       "    }\n",
       "\n",
       "    .dataframe thead th {\n",
       "        text-align: right;\n",
       "    }\n",
       "</style>\n",
       "<table border=\"1\" class=\"dataframe\">\n",
       "  <thead>\n",
       "    <tr style=\"text-align: right;\">\n",
       "      <th></th>\n",
       "      <th>Delivery Time</th>\n",
       "      <th>Sorting Time</th>\n",
       "    </tr>\n",
       "  </thead>\n",
       "  <tbody>\n",
       "    <tr>\n",
       "      <th>0</th>\n",
       "      <td>21.00</td>\n",
       "      <td>10</td>\n",
       "    </tr>\n",
       "    <tr>\n",
       "      <th>1</th>\n",
       "      <td>13.50</td>\n",
       "      <td>4</td>\n",
       "    </tr>\n",
       "    <tr>\n",
       "      <th>2</th>\n",
       "      <td>19.75</td>\n",
       "      <td>6</td>\n",
       "    </tr>\n",
       "    <tr>\n",
       "      <th>3</th>\n",
       "      <td>24.00</td>\n",
       "      <td>9</td>\n",
       "    </tr>\n",
       "    <tr>\n",
       "      <th>4</th>\n",
       "      <td>29.00</td>\n",
       "      <td>10</td>\n",
       "    </tr>\n",
       "  </tbody>\n",
       "</table>\n",
       "</div>"
      ],
      "text/plain": [
       "   Delivery Time  Sorting Time\n",
       "0          21.00            10\n",
       "1          13.50             4\n",
       "2          19.75             6\n",
       "3          24.00             9\n",
       "4          29.00            10"
      ]
     },
     "execution_count": 146,
     "metadata": {},
     "output_type": "execute_result"
    }
   ],
   "source": [
    "df=pd.read_csv('delivery_time.csv')\n",
    "df.head()"
   ]
  },
  {
   "cell_type": "code",
   "execution_count": 8,
   "id": "c5ab9511-c5b1-4086-a2a3-dba23297c9a1",
   "metadata": {},
   "outputs": [
    {
     "data": {
      "text/plain": [
       "Index(['DeliveryTime', 'SortingTime'], dtype='object')"
      ]
     },
     "execution_count": 8,
     "metadata": {},
     "output_type": "execute_result"
    }
   ],
   "source": [
    "# Renaming Columns \n",
    "df.rename(columns={'Delivery Time': 'DeliveryTime', 'Sorting Time': 'SortingTime'}, inplace=True)\n",
    "df.columns"
   ]
  },
  {
   "cell_type": "code",
   "execution_count": 162,
   "id": "0bb34442-b7d6-48b8-95cd-8dadde070c02",
   "metadata": {},
   "outputs": [
    {
     "data": {
      "text/plain": [
       "(array([[21.  ],\n",
       "        [13.5 ],\n",
       "        [19.75],\n",
       "        [24.  ],\n",
       "        [29.  ],\n",
       "        [15.35],\n",
       "        [19.  ],\n",
       "        [ 9.5 ],\n",
       "        [17.9 ],\n",
       "        [18.75],\n",
       "        [19.83],\n",
       "        [10.75],\n",
       "        [16.68],\n",
       "        [11.5 ],\n",
       "        [12.03],\n",
       "        [14.88],\n",
       "        [13.75],\n",
       "        [18.11],\n",
       "        [ 8.  ],\n",
       "        [17.83],\n",
       "        [21.5 ]]),\n",
       " array([10,  4,  6,  9, 10,  6,  7,  3, 10,  9,  8,  4,  7,  3,  3,  4,  6,\n",
       "         7,  2,  7,  5]))"
      ]
     },
     "execution_count": 162,
     "metadata": {},
     "output_type": "execute_result"
    }
   ],
   "source": [
    "# mark Response variable (y) and Predictor (X)\n",
    "X = df.iloc[:,0].values.reshape(-1,1)\n",
    "y = df.iloc[:,1].values\n",
    "X,y"
   ]
  },
  {
   "cell_type": "code",
   "execution_count": 51,
   "id": "7447d57e-c1c3-4ea2-ae67-5b0029a1e147",
   "metadata": {},
   "outputs": [
    {
     "data": {
      "text/plain": [
       "Text(0, 0.5, 'DeliveryTime')"
      ]
     },
     "execution_count": 51,
     "metadata": {},
     "output_type": "execute_result"
    },
    {
     "data": {
      "image/png": "[encoded data removed]",
      "text/plain": [
       "<Figure size 640x480 with 1 Axes>"
      ]
     },
     "metadata": {},
     "output_type": "display_data"
    }
   ],
   "source": [
    "# check whether there is a linear pattren between X and y\n",
    "plt.scatter(df.DeliveryTime,df.SortingTime)\n",
    "plt.xlabel('SortingTime')\n",
    "plt.ylabel(\"DeliveryTime\")"
   ]
  },
  {
   "cell_type": "code",
   "execution_count": 52,
   "id": "fef0249f-83f5-4915-ae5b-ab81e3e53d98",
   "metadata": {},
   "outputs": [],
   "source": [
    "# Define different transformations\n",
    "transformations = {\n",
    "    'Original': lambda x: x,\n",
    "    'Log Transformation': np.log,\n",
    "    'Square Root Transformation': np.sqrt,\n",
    "    'Reciprocal Transformation': lambda x: 1/x\n",
    "}"
   ]
  },
  {
   "cell_type": "code",
   "execution_count": 75,
   "id": "5d502bfe-8ccd-4d98-871f-6efe5b8aaac4",
   "metadata": {},
   "outputs": [],
   "source": [
    "# to store results\n",
    "results = pd.DataFrame(columns=['Transformation', 'R-squared', 'Intercept', 'Coefficient'])"
   ]
  },
  {
   "cell_type": "markdown",
   "id": "8dec4b4e-73e6-48f7-8373-79d8d8f3c992",
   "metadata": {},
   "source": [
    "## Building model and iterate over each transformation"
   ]
  },
  {
   "cell_type": "code",
   "execution_count": 141,
   "id": "ad73c5f0-68a5-47bc-be66-487ef9cd32a6",
   "metadata": {},
   "outputs": [],
   "source": [
    "# Fit linear regression \n",
    "for name, transformation in transformations.items():\n",
    "    X_transformed = transformation(X)\n",
    "    \n",
    "    # Fit the model\n",
    "    model = LinearRegression()\n",
    "    model.fit(X_transformed, y)\n",
    "    \n",
    "    # predictions\n",
    "    y_pred = model.predict(X)\n",
    "    \n",
    "    results.loc[len(results)] = [name, r2_score(y, y_pred), model.intercept_, model.coef_]\n"
   ]
  },
  {
   "cell_type": "code",
   "execution_count": 78,
   "id": "04e6828a-a5da-46b3-9e09-f24340cdc235",
   "metadata": {},
   "outputs": [
    {
     "data": {
      "text/html": [
       "<div>\n",
       "<style scoped>\n",
       "    .dataframe tbody tr th:only-of-type {\n",
       "        vertical-align: middle;\n",
       "    }\n",
       "\n",
       "    .dataframe tbody tr th {\n",
       "        vertical-align: top;\n",
       "    }\n",
       "\n",
       "    .dataframe thead th {\n",
       "        text-align: right;\n",
       "    }\n",
       "</style>\n",
       "<table border=\"1\" class=\"dataframe\">\n",
       "  <thead>\n",
       "    <tr style=\"text-align: right;\">\n",
       "      <th></th>\n",
       "      <th>Transformation</th>\n",
       "      <th>R-squared</th>\n",
       "      <th>Intercept</th>\n",
       "      <th>Coefficient</th>\n",
       "    </tr>\n",
       "  </thead>\n",
       "  <tbody>\n",
       "    <tr>\n",
       "      <th>0</th>\n",
       "      <td>Original</td>\n",
       "      <td>0.682271</td>\n",
       "      <td>-0.756673</td>\n",
       "      <td>[0.413743628050077]</td>\n",
       "    </tr>\n",
       "    <tr>\n",
       "      <th>1</th>\n",
       "      <td>Log Transformation</td>\n",
       "      <td>0.710948</td>\n",
       "      <td>-12.499233</td>\n",
       "      <td>[6.7355484133868995]</td>\n",
       "    </tr>\n",
       "    <tr>\n",
       "      <th>2</th>\n",
       "      <td>Square Root Transformation</td>\n",
       "      <td>0.704050</td>\n",
       "      <td>-7.615364</td>\n",
       "      <td>[3.4072674682937216]</td>\n",
       "    </tr>\n",
       "    <tr>\n",
       "      <th>3</th>\n",
       "      <td>Reciprocal Transformation</td>\n",
       "      <td>0.681651</td>\n",
       "      <td>12.323676</td>\n",
       "      <td>[-93.53812804841903]</td>\n",
       "    </tr>\n",
       "  </tbody>\n",
       "</table>\n",
       "</div>"
      ],
      "text/plain": [
       "               Transformation  R-squared  Intercept           Coefficient\n",
       "0                    Original   0.682271  -0.756673   [0.413743628050077]\n",
       "1          Log Transformation   0.710948 -12.499233  [6.7355484133868995]\n",
       "2  Square Root Transformation   0.704050  -7.615364  [3.4072674682937216]\n",
       "3   Reciprocal Transformation   0.681651  12.323676  [-93.53812804841903]"
      ]
     },
     "execution_count": 78,
     "metadata": {},
     "output_type": "execute_result"
    }
   ],
   "source": [
    "results"
   ]
  },
  {
   "cell_type": "markdown",
   "id": "94d329b7-a125-4ba8-8f23-ce66ea60b92b",
   "metadata": {},
   "source": [
    "# Model using ols with a log transformation applied to the predictor variable"
   ]
  },
  {
   "cell_type": "code",
   "execution_count": 152,
   "id": "2e60e385-0e89-42ec-8ebc-5fdff886dbc8",
   "metadata": {},
   "outputs": [],
   "source": [
    "df1 = df.copy()\n",
    "df1['X'] = np.log(X)\n",
    "model_fit = smf.ols('y~X', data = df1).fit()"
   ]
  },
  {
   "cell_type": "code",
   "execution_count": 153,
   "id": "d11df9b8-8b27-413f-83d1-63f0edc792b8",
   "metadata": {},
   "outputs": [
    {
     "data": {
      "text/html": [
       "<table class=\"simpletable\">\n",
       "<caption>OLS Regression Results</caption>\n",
       "<tr>\n",
       "  <th>Dep. Variable:</th>            <td>y</td>        <th>  R-squared:         </th> <td>   0.711</td>\n",
       "</tr>\n",
       "<tr>\n",
       "  <th>Model:</th>                   <td>OLS</td>       <th>  Adj. R-squared:    </th> <td>   0.696</td>\n",
       "</tr>\n",
       "<tr>\n",
       "  <th>Method:</th>             <td>Least Squares</td>  <th>  F-statistic:       </th> <td>   46.73</td>\n",
       "</tr>\n",
       "<tr>\n",
       "  <th>Date:</th>             <td>Sat, 17 Feb 2024</td> <th>  Prob (F-statistic):</th> <td>1.59e-06</td>\n",
       "</tr>\n",
       "<tr>\n",
       "  <th>Time:</th>                 <td>15:54:00</td>     <th>  Log-Likelihood:    </th> <td> -35.846</td>\n",
       "</tr>\n",
       "<tr>\n",
       "  <th>No. Observations:</th>      <td>    21</td>      <th>  AIC:               </th> <td>   75.69</td>\n",
       "</tr>\n",
       "<tr>\n",
       "  <th>Df Residuals:</th>          <td>    19</td>      <th>  BIC:               </th> <td>   77.78</td>\n",
       "</tr>\n",
       "<tr>\n",
       "  <th>Df Model:</th>              <td>     1</td>      <th>                     </th>     <td> </td>   \n",
       "</tr>\n",
       "<tr>\n",
       "  <th>Covariance Type:</th>      <td>nonrobust</td>    <th>                     </th>     <td> </td>   \n",
       "</tr>\n",
       "</table>\n",
       "<table class=\"simpletable\">\n",
       "<tr>\n",
       "      <td></td>         <th>coef</th>     <th>std err</th>      <th>t</th>      <th>P>|t|</th>  <th>[0.025</th>    <th>0.975]</th>  \n",
       "</tr>\n",
       "<tr>\n",
       "  <th>Intercept</th> <td>  -12.4992</td> <td>    2.751</td> <td>   -4.543</td> <td> 0.000</td> <td>  -18.257</td> <td>   -6.741</td>\n",
       "</tr>\n",
       "<tr>\n",
       "  <th>X</th>         <td>    6.7355</td> <td>    0.985</td> <td>    6.836</td> <td> 0.000</td> <td>    4.673</td> <td>    8.798</td>\n",
       "</tr>\n",
       "</table>\n",
       "<table class=\"simpletable\">\n",
       "<tr>\n",
       "  <th>Omnibus:</th>       <td> 1.323</td> <th>  Durbin-Watson:     </th> <td>   1.202</td>\n",
       "</tr>\n",
       "<tr>\n",
       "  <th>Prob(Omnibus):</th> <td> 0.516</td> <th>  Jarque-Bera (JB):  </th> <td>   0.242</td>\n",
       "</tr>\n",
       "<tr>\n",
       "  <th>Skew:</th>          <td>-0.025</td> <th>  Prob(JB):          </th> <td>   0.886</td>\n",
       "</tr>\n",
       "<tr>\n",
       "  <th>Kurtosis:</th>      <td> 3.523</td> <th>  Cond. No.          </th> <td>    28.3</td>\n",
       "</tr>\n",
       "</table><br/><br/>Notes:<br/>[1] Standard Errors assume that the covariance matrix of the errors is correctly specified."
      ],
      "text/latex": [
       "\\begin{center}\n",
       "\\begin{tabular}{lclc}\n",
       "\\toprule\n",
       "\\textbf{Dep. Variable:}    &        y         & \\textbf{  R-squared:         } &     0.711   \\\\\n",
       "\\textbf{Model:}            &       OLS        & \\textbf{  Adj. R-squared:    } &     0.696   \\\\\n",
       "\\textbf{Method:}           &  Least Squares   & \\textbf{  F-statistic:       } &     46.73   \\\\\n",
       "\\textbf{Date:}             & Sat, 17 Feb 2024 & \\textbf{  Prob (F-statistic):} &  1.59e-06   \\\\\n",
       "\\textbf{Time:}             &     15:54:00     & \\textbf{  Log-Likelihood:    } &   -35.846   \\\\\n",
       "\\textbf{No. Observations:} &          21      & \\textbf{  AIC:               } &     75.69   \\\\\n",
       "\\textbf{Df Residuals:}     &          19      & \\textbf{  BIC:               } &     77.78   \\\\\n",
       "\\textbf{Df Model:}         &           1      & \\textbf{                     } &             \\\\\n",
       "\\textbf{Covariance Type:}  &    nonrobust     & \\textbf{                     } &             \\\\\n",
       "\\bottomrule\n",
       "\\end{tabular}\n",
       "\\begin{tabular}{lcccccc}\n",
       "                   & \\textbf{coef} & \\textbf{std err} & \\textbf{t} & \\textbf{P$> |$t$|$} & \\textbf{[0.025} & \\textbf{0.975]}  \\\\\n",
       "\\midrule\n",
       "\\textbf{Intercept} &     -12.4992  &        2.751     &    -4.543  &         0.000        &      -18.257    &       -6.741     \\\\\n",
       "\\textbf{X}         &       6.7355  &        0.985     &     6.836  &         0.000        &        4.673    &        8.798     \\\\\n",
       "\\bottomrule\n",
       "\\end{tabular}\n",
       "\\begin{tabular}{lclc}\n",
       "\\textbf{Omnibus:}       &  1.323 & \\textbf{  Durbin-Watson:     } &    1.202  \\\\\n",
       "\\textbf{Prob(Omnibus):} &  0.516 & \\textbf{  Jarque-Bera (JB):  } &    0.242  \\\\\n",
       "\\textbf{Skew:}          & -0.025 & \\textbf{  Prob(JB):          } &    0.886  \\\\\n",
       "\\textbf{Kurtosis:}      &  3.523 & \\textbf{  Cond. No.          } &     28.3  \\\\\n",
       "\\bottomrule\n",
       "\\end{tabular}\n",
       "%\\caption{OLS Regression Results}\n",
       "\\end{center}\n",
       "\n",
       "Notes: \\newline\n",
       " [1] Standard Errors assume that the covariance matrix of the errors is correctly specified."
      ],
      "text/plain": [
       "<class 'statsmodels.iolib.summary.Summary'>\n",
       "\"\"\"\n",
       "                            OLS Regression Results                            \n",
       "==============================================================================\n",
       "Dep. Variable:                      y   R-squared:                       0.711\n",
       "Model:                            OLS   Adj. R-squared:                  0.696\n",
       "Method:                 Least Squares   F-statistic:                     46.73\n",
       "Date:                Sat, 17 Feb 2024   Prob (F-statistic):           1.59e-06\n",
       "Time:                        15:54:00   Log-Likelihood:                -35.846\n",
       "No. Observations:                  21   AIC:                             75.69\n",
       "Df Residuals:                      19   BIC:                             77.78\n",
       "Df Model:                           1                                         \n",
       "Covariance Type:            nonrobust                                         \n",
       "==============================================================================\n",
       "                 coef    std err          t      P>|t|      [0.025      0.975]\n",
       "------------------------------------------------------------------------------\n",
       "Intercept    -12.4992      2.751     -4.543      0.000     -18.257      -6.741\n",
       "X              6.7355      0.985      6.836      0.000       4.673       8.798\n",
       "==============================================================================\n",
       "Omnibus:                        1.323   Durbin-Watson:                   1.202\n",
       "Prob(Omnibus):                  0.516   Jarque-Bera (JB):                0.242\n",
       "Skew:                          -0.025   Prob(JB):                        0.886\n",
       "Kurtosis:                       3.523   Cond. No.                         28.3\n",
       "==============================================================================\n",
       "\n",
       "Notes:\n",
       "[1] Standard Errors assume that the covariance matrix of the errors is correctly specified.\n",
       "\"\"\""
      ]
     },
     "execution_count": 153,
     "metadata": {},
     "output_type": "execute_result"
    }
   ],
   "source": [
    "model_fit.summary()"
   ]
  },
  {
   "cell_type": "code",
   "execution_count": 130,
   "id": "4b21838d-fbaa-49aa-980e-6404aa8e6b1f",
   "metadata": {},
   "outputs": [],
   "source": [
    "# fitted values and residuals\n",
    "residuals = model_fit.resid\n",
    "fitted_values = model_fit.fittedvalues"
   ]
  },
  {
   "cell_type": "code",
   "execution_count": 155,
   "id": "19685643-7b9d-4526-b387-a98d3f78e726",
   "metadata": {},
   "outputs": [
    {
     "data": {
      "image/png": "[encoded data removed]",
      "text/plain": [
       "<Figure size 640x480 with 1 Axes>"
      ]
     },
     "metadata": {},
     "output_type": "display_data"
    }
   ],
   "source": [
    "# Residuals vs Fitted: Check for homoscedasticity\n",
    "\n",
    "plt.scatter(fitted_values, residuals)\n",
    "plt.axhline(y=0, color='r', linestyle='--')\n",
    "plt.title('Residuals vs Fitted')\n",
    "plt.xlabel('Fitted values')\n",
    "plt.ylabel('Residuals')\n",
    "plt.show()"
   ]
  },
  {
   "cell_type": "code",
   "execution_count": 128,
   "id": "0f24aca2-97cd-478d-99aa-5381c65151e3",
   "metadata": {},
   "outputs": [
    {
     "data": {
      "image/png": "[encoded data removed]",
      "text/plain": [
       "<Figure size 800x600 with 1 Axes>"
      ]
     },
     "metadata": {},
     "output_type": "display_data"
    }
   ],
   "source": [
    "# QQ Plot: Check for normality of residuals\n",
    "\n",
    "fig, ax = plt.subplots(figsize=(8, 6))\n",
    "stats.probplot(model_fit.resid, dist=\"norm\", plot=ax)\n",
    "ax.get_lines()[1].set_linestyle('--') \n",
    "ax.set_title('QQ Plot')\n",
    "ax.set_xlabel('Theoretical quantiles')\n",
    "ax.set_ylabel('Sample quantiles')\n",
    "plt.show()"
   ]
  },
  {
   "cell_type": "code",
   "execution_count": 125,
   "id": "964d43ce-b8ff-4525-aa76-a861bda97094",
   "metadata": {},
   "outputs": [
    {
     "data": {
      "image/png": "[encoded data removed]",
      "text/plain": [
       "<Figure size 640x480 with 1 Axes>"
      ]
     },
     "metadata": {},
     "output_type": "display_data"
    }
   ],
   "source": [
    "# Histogram of Residuals: Visualize the distribution of residuals\n",
    "\n",
    "plt.hist(residuals, bins=15, edgecolor='black', alpha=0.7)\n",
    "plt.title('Histogram of Residuals')\n",
    "plt.xlabel('Residuals')\n",
    "plt.ylabel('Frequency')\n",
    "plt.show()"
   ]
  },
  {
   "cell_type": "code",
   "execution_count": 156,
   "id": "943af880-c0ba-445a-b790-410eb9a6c61f",
   "metadata": {},
   "outputs": [
    {
     "data": {
      "image/png": "[encoded data removed]",
      "text/plain": [
       "<Figure size 640x480 with 1 Axes>"
      ]
     },
     "metadata": {},
     "output_type": "display_data"
    }
   ],
   "source": [
    "# Residuals vs Index: Check for independence of residuals\n",
    "\n",
    "plt.scatter(df1.index, residuals, alpha=0.7)\n",
    "plt.axhline(y=0, color='r', linestyle='--')\n",
    "plt.title('Residuals vs Index')\n",
    "plt.xlabel('Index')\n",
    "plt.ylabel('Residuals')\n",
    "plt.show()"
   ]
  },
  {
   "cell_type": "markdown",
   "id": "66e55ee9-fd86-4d44-ac23-e0f24500e3e3",
   "metadata": {},
   "source": [
    "## Predictions"
   ]
  },
  {
   "cell_type": "code",
   "execution_count": 159,
   "id": "77812e00-de84-4b62-ae24-2a6408e81b02",
   "metadata": {},
   "outputs": [
    {
     "data": {
      "text/html": [
       "<div>\n",
       "<style scoped>\n",
       "    .dataframe tbody tr th:only-of-type {\n",
       "        vertical-align: middle;\n",
       "    }\n",
       "\n",
       "    .dataframe tbody tr th {\n",
       "        vertical-align: top;\n",
       "    }\n",
       "\n",
       "    .dataframe thead th {\n",
       "        text-align: right;\n",
       "    }\n",
       "</style>\n",
       "<table border=\"1\" class=\"dataframe\">\n",
       "  <thead>\n",
       "    <tr style=\"text-align: right;\">\n",
       "      <th></th>\n",
       "      <th>X</th>\n",
       "    </tr>\n",
       "  </thead>\n",
       "  <tbody>\n",
       "    <tr>\n",
       "      <th>0</th>\n",
       "      <td>4</td>\n",
       "    </tr>\n",
       "    <tr>\n",
       "      <th>1</th>\n",
       "      <td>3</td>\n",
       "    </tr>\n",
       "    <tr>\n",
       "      <th>2</th>\n",
       "      <td>3</td>\n",
       "    </tr>\n",
       "    <tr>\n",
       "      <th>3</th>\n",
       "      <td>6</td>\n",
       "    </tr>\n",
       "    <tr>\n",
       "      <th>4</th>\n",
       "      <td>8</td>\n",
       "    </tr>\n",
       "  </tbody>\n",
       "</table>\n",
       "</div>"
      ],
      "text/plain": [
       "   X\n",
       "0  4\n",
       "1  3\n",
       "2  3\n",
       "3  6\n",
       "4  8"
      ]
     },
     "execution_count": 159,
     "metadata": {},
     "output_type": "execute_result"
    }
   ],
   "source": [
    "X_values = np.random.randint(0, 10, size=5) \n",
    "data = pd.DataFrame({'X': X_values})\n",
    "data.head()"
   ]
  },
  {
   "cell_type": "code",
   "execution_count": 160,
   "id": "03b77c19-b18d-468e-87bf-c4178a9b95c9",
   "metadata": {},
   "outputs": [],
   "source": [
    "predicted_values = model_fit.predict(data)"
   ]
  },
  {
   "cell_type": "code",
   "execution_count": 161,
   "id": "08087ca3-096e-4729-894d-85ecbb26dcee",
   "metadata": {},
   "outputs": [
    {
     "name": "stdout",
     "output_type": "stream",
     "text": [
      "0    14.442961\n",
      "1     7.707413\n",
      "2     7.707413\n",
      "3    27.914058\n",
      "4    41.385155\n",
      "dtype: float64\n"
     ]
    }
   ],
   "source": [
    "print(predicted_values)"
   ]
  }
 ],
 "metadata": {
  "kernelspec": {
   "display_name": "Python 3 (ipykernel)",
   "language": "python",
   "name": "python3"
  },
  "language_info": {
   "codemirror_mode": {
    "name": "ipython",
    "version": 3
   },
   "file_extension": ".py",
   "mimetype": "text/x-python",
   "name": "python",
   "nbconvert_exporter": "python",
   "pygments_lexer": "ipython3",
   "version": "3.11.5"
  }
 },
 "nbformat": 4,
 "nbformat_minor": 5
}
