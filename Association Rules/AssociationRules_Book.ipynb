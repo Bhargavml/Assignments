{
 "cells": [
  {
   "cell_type": "markdown",
   "id": "1faab713",
   "metadata": {},
   "source": [
    "# Step 1: Install necessary libraries"
   ]
  },
  {
   "cell_type": "code",
   "execution_count": 1,
   "id": "3cfc3d7a",
   "metadata": {},
   "outputs": [
    {
     "name": "stdout",
     "output_type": "stream",
     "text": [
      "Requirement already satisfied: mlxtend in /Users/bhavani/opt/anaconda3/lib/python3.9/site-packages (0.23.1)\n",
      "Requirement already satisfied: matplotlib in /Users/bhavani/opt/anaconda3/lib/python3.9/site-packages (3.4.3)\n",
      "Requirement already satisfied: joblib>=0.13.2 in /Users/bhavani/opt/anaconda3/lib/python3.9/site-packages (from mlxtend) (1.3.2)\n",
      "Requirement already satisfied: scikit-learn>=1.0.2 in /Users/bhavani/opt/anaconda3/lib/python3.9/site-packages (from mlxtend) (1.4.1.post1)\n",
      "Requirement already satisfied: pandas>=0.24.2 in /Users/bhavani/opt/anaconda3/lib/python3.9/site-packages (from mlxtend) (1.3.4)\n",
      "Requirement already satisfied: numpy>=1.16.2 in /Users/bhavani/opt/anaconda3/lib/python3.9/site-packages (from mlxtend) (1.20.3)\n",
      "Requirement already satisfied: scipy>=1.2.1 in /Users/bhavani/opt/anaconda3/lib/python3.9/site-packages (from mlxtend) (1.7.1)\n",
      "Requirement already satisfied: cycler>=0.10 in /Users/bhavani/opt/anaconda3/lib/python3.9/site-packages (from matplotlib) (0.10.0)\n",
      "Requirement already satisfied: pillow>=6.2.0 in /Users/bhavani/opt/anaconda3/lib/python3.9/site-packages (from matplotlib) (8.4.0)\n",
      "Requirement already satisfied: python-dateutil>=2.7 in /Users/bhavani/opt/anaconda3/lib/python3.9/site-packages (from matplotlib) (2.8.2)\n",
      "Requirement already satisfied: pyparsing>=2.2.1 in /Users/bhavani/opt/anaconda3/lib/python3.9/site-packages (from matplotlib) (3.0.4)\n",
      "Requirement already satisfied: kiwisolver>=1.0.1 in /Users/bhavani/opt/anaconda3/lib/python3.9/site-packages (from matplotlib) (1.3.1)\n",
      "Requirement already satisfied: six in /Users/bhavani/opt/anaconda3/lib/python3.9/site-packages (from cycler>=0.10->matplotlib) (1.16.0)\n",
      "Requirement already satisfied: pytz>=2017.3 in /Users/bhavani/opt/anaconda3/lib/python3.9/site-packages (from pandas>=0.24.2->mlxtend) (2021.3)\n",
      "Requirement already satisfied: threadpoolctl>=2.0.0 in /Users/bhavani/opt/anaconda3/lib/python3.9/site-packages (from scikit-learn>=1.0.2->mlxtend) (2.2.0)\n",
      "Note: you may need to restart the kernel to use updated packages.\n"
     ]
    }
   ],
   "source": [
    "pip install mlxtend matplotlib"
   ]
  },
  {
   "cell_type": "markdown",
   "id": "a6dd36d6",
   "metadata": {},
   "source": [
    "# Step 2: Import libraries"
   ]
  },
  {
   "cell_type": "code",
   "execution_count": 40,
   "id": "954620c1",
   "metadata": {},
   "outputs": [],
   "source": [
    "import pandas as pd\n",
    "import numpy as np\n",
    "from mlxtend.frequent_patterns import apriori, association_rules\n",
    "import matplotlib.pyplot as plt\n",
    "import seaborn as sns"
   ]
  },
  {
   "cell_type": "markdown",
   "id": "7e93bea6",
   "metadata": {},
   "source": [
    "# Step 3: Load and preprocess your dataset"
   ]
  },
  {
   "cell_type": "code",
   "execution_count": 41,
   "id": "0d42d765",
   "metadata": {
    "scrolled": true
   },
   "outputs": [
    {
     "data": {
      "text/html": [
       "<div>\n",
       "<style scoped>\n",
       "    .dataframe tbody tr th:only-of-type {\n",
       "        vertical-align: middle;\n",
       "    }\n",
       "\n",
       "    .dataframe tbody tr th {\n",
       "        vertical-align: top;\n",
       "    }\n",
       "\n",
       "    .dataframe thead th {\n",
       "        text-align: right;\n",
       "    }\n",
       "</style>\n",
       "<table border=\"1\" class=\"dataframe\">\n",
       "  <thead>\n",
       "    <tr style=\"text-align: right;\">\n",
       "      <th></th>\n",
       "      <th>ChildBks</th>\n",
       "      <th>YouthBks</th>\n",
       "      <th>CookBks</th>\n",
       "      <th>DoItYBks</th>\n",
       "      <th>RefBks</th>\n",
       "      <th>ArtBks</th>\n",
       "      <th>GeogBks</th>\n",
       "      <th>ItalCook</th>\n",
       "      <th>ItalAtlas</th>\n",
       "      <th>ItalArt</th>\n",
       "      <th>Florence</th>\n",
       "    </tr>\n",
       "  </thead>\n",
       "  <tbody>\n",
       "    <tr>\n",
       "      <th>0</th>\n",
       "      <td>0</td>\n",
       "      <td>1</td>\n",
       "      <td>0</td>\n",
       "      <td>1</td>\n",
       "      <td>0</td>\n",
       "      <td>0</td>\n",
       "      <td>1</td>\n",
       "      <td>0</td>\n",
       "      <td>0</td>\n",
       "      <td>0</td>\n",
       "      <td>0</td>\n",
       "    </tr>\n",
       "    <tr>\n",
       "      <th>1</th>\n",
       "      <td>1</td>\n",
       "      <td>0</td>\n",
       "      <td>0</td>\n",
       "      <td>0</td>\n",
       "      <td>0</td>\n",
       "      <td>0</td>\n",
       "      <td>0</td>\n",
       "      <td>0</td>\n",
       "      <td>0</td>\n",
       "      <td>0</td>\n",
       "      <td>0</td>\n",
       "    </tr>\n",
       "    <tr>\n",
       "      <th>2</th>\n",
       "      <td>0</td>\n",
       "      <td>0</td>\n",
       "      <td>0</td>\n",
       "      <td>0</td>\n",
       "      <td>0</td>\n",
       "      <td>0</td>\n",
       "      <td>0</td>\n",
       "      <td>0</td>\n",
       "      <td>0</td>\n",
       "      <td>0</td>\n",
       "      <td>0</td>\n",
       "    </tr>\n",
       "    <tr>\n",
       "      <th>3</th>\n",
       "      <td>1</td>\n",
       "      <td>1</td>\n",
       "      <td>1</td>\n",
       "      <td>0</td>\n",
       "      <td>1</td>\n",
       "      <td>0</td>\n",
       "      <td>1</td>\n",
       "      <td>0</td>\n",
       "      <td>0</td>\n",
       "      <td>0</td>\n",
       "      <td>0</td>\n",
       "    </tr>\n",
       "    <tr>\n",
       "      <th>4</th>\n",
       "      <td>0</td>\n",
       "      <td>0</td>\n",
       "      <td>1</td>\n",
       "      <td>0</td>\n",
       "      <td>0</td>\n",
       "      <td>0</td>\n",
       "      <td>1</td>\n",
       "      <td>0</td>\n",
       "      <td>0</td>\n",
       "      <td>0</td>\n",
       "      <td>0</td>\n",
       "    </tr>\n",
       "  </tbody>\n",
       "</table>\n",
       "</div>"
      ],
      "text/plain": [
       "   ChildBks  YouthBks  CookBks  DoItYBks  RefBks  ArtBks  GeogBks  ItalCook  \\\n",
       "0         0         1        0         1       0       0        1         0   \n",
       "1         1         0        0         0       0       0        0         0   \n",
       "2         0         0        0         0       0       0        0         0   \n",
       "3         1         1        1         0       1       0        1         0   \n",
       "4         0         0        1         0       0       0        1         0   \n",
       "\n",
       "   ItalAtlas  ItalArt  Florence  \n",
       "0          0        0         0  \n",
       "1          0        0         0  \n",
       "2          0        0         0  \n",
       "3          0        0         0  \n",
       "4          0        0         0  "
      ]
     },
     "execution_count": 41,
     "metadata": {},
     "output_type": "execute_result"
    }
   ],
   "source": [
    "df = pd.read_csv('book.csv')\n",
    "df.head()"
   ]
  },
  {
   "cell_type": "code",
   "execution_count": 4,
   "id": "3e1672ec",
   "metadata": {},
   "outputs": [
    {
     "data": {
      "text/plain": [
       "(2000, 11)"
      ]
     },
     "execution_count": 4,
     "metadata": {},
     "output_type": "execute_result"
    }
   ],
   "source": [
    "df.shape"
   ]
  },
  {
   "cell_type": "code",
   "execution_count": 5,
   "id": "136fcd1a",
   "metadata": {
    "scrolled": true
   },
   "outputs": [
    {
     "name": "stdout",
     "output_type": "stream",
     "text": [
      "<class 'pandas.core.frame.DataFrame'>\n",
      "RangeIndex: 2000 entries, 0 to 1999\n",
      "Data columns (total 11 columns):\n",
      " #   Column     Non-Null Count  Dtype\n",
      "---  ------     --------------  -----\n",
      " 0   ChildBks   2000 non-null   int64\n",
      " 1   YouthBks   2000 non-null   int64\n",
      " 2   CookBks    2000 non-null   int64\n",
      " 3   DoItYBks   2000 non-null   int64\n",
      " 4   RefBks     2000 non-null   int64\n",
      " 5   ArtBks     2000 non-null   int64\n",
      " 6   GeogBks    2000 non-null   int64\n",
      " 7   ItalCook   2000 non-null   int64\n",
      " 8   ItalAtlas  2000 non-null   int64\n",
      " 9   ItalArt    2000 non-null   int64\n",
      " 10  Florence   2000 non-null   int64\n",
      "dtypes: int64(11)\n",
      "memory usage: 172.0 KB\n"
     ]
    }
   ],
   "source": [
    "df.info()"
   ]
  },
  {
   "cell_type": "code",
   "execution_count": 6,
   "id": "96c99130",
   "metadata": {},
   "outputs": [
    {
     "data": {
      "text/plain": [
       "ChildBks     bool\n",
       "YouthBks     bool\n",
       "CookBks      bool\n",
       "DoItYBks     bool\n",
       "RefBks       bool\n",
       "ArtBks       bool\n",
       "GeogBks      bool\n",
       "ItalCook     bool\n",
       "ItalAtlas    bool\n",
       "ItalArt      bool\n",
       "Florence     bool\n",
       "dtype: object"
      ]
     },
     "execution_count": 6,
     "metadata": {},
     "output_type": "execute_result"
    }
   ],
   "source": [
    "df = df.astype(bool)\n",
    "df.dtypes"
   ]
  },
  {
   "cell_type": "code",
   "execution_count": 7,
   "id": "ff1d4ebb",
   "metadata": {},
   "outputs": [
    {
     "data": {
      "text/plain": [
       "CookBks      862\n",
       "ChildBks     846\n",
       "DoItYBks     564\n",
       "GeogBks      552\n",
       "YouthBks     495\n",
       "ArtBks       482\n",
       "RefBks       429\n",
       "ItalCook     227\n",
       "Florence     217\n",
       "ItalArt       97\n",
       "ItalAtlas     74\n",
       "dtype: int64"
      ]
     },
     "execution_count": 7,
     "metadata": {},
     "output_type": "execute_result"
    }
   ],
   "source": [
    "book_counts = df.sum().sort_values(ascending=False)\n",
    "book_counts"
   ]
  },
  {
   "cell_type": "code",
   "execution_count": 8,
   "id": "35574c3a",
   "metadata": {},
   "outputs": [
    {
     "data": {
      "image/png": "[encoded data removed]",
      "text/plain": [
       "<Figure size 720x432 with 1 Axes>"
      ]
     },
     "metadata": {
      "needs_background": "light"
     },
     "output_type": "display_data"
    }
   ],
   "source": [
    "plt.figure(figsize=(10, 6))\n",
    "book_counts.plot(kind='bar', color='skyblue')\n",
    "plt.title(\"Number of Customers Who Purchased Each Book Category\")\n",
    "plt.xlabel(\"Book Categories\")\n",
    "plt.ylabel(\"Number of Customers\")\n",
    "plt.xticks(rotation=45, ha='right')\n",
    "plt.show()"
   ]
  },
  {
   "cell_type": "code",
   "execution_count": 9,
   "id": "813db19f",
   "metadata": {},
   "outputs": [
    {
     "data": {
      "text/html": [
       "<div>\n",
       "<style scoped>\n",
       "    .dataframe tbody tr th:only-of-type {\n",
       "        vertical-align: middle;\n",
       "    }\n",
       "\n",
       "    .dataframe tbody tr th {\n",
       "        vertical-align: top;\n",
       "    }\n",
       "\n",
       "    .dataframe thead th {\n",
       "        text-align: right;\n",
       "    }\n",
       "</style>\n",
       "<table border=\"1\" class=\"dataframe\">\n",
       "  <thead>\n",
       "    <tr style=\"text-align: right;\">\n",
       "      <th></th>\n",
       "      <th>Support</th>\n",
       "    </tr>\n",
       "  </thead>\n",
       "  <tbody>\n",
       "    <tr>\n",
       "      <th>CookBks</th>\n",
       "      <td>0.4310</td>\n",
       "    </tr>\n",
       "    <tr>\n",
       "      <th>ChildBks</th>\n",
       "      <td>0.4230</td>\n",
       "    </tr>\n",
       "    <tr>\n",
       "      <th>DoItYBks</th>\n",
       "      <td>0.2820</td>\n",
       "    </tr>\n",
       "    <tr>\n",
       "      <th>GeogBks</th>\n",
       "      <td>0.2760</td>\n",
       "    </tr>\n",
       "    <tr>\n",
       "      <th>YouthBks</th>\n",
       "      <td>0.2475</td>\n",
       "    </tr>\n",
       "    <tr>\n",
       "      <th>ArtBks</th>\n",
       "      <td>0.2410</td>\n",
       "    </tr>\n",
       "    <tr>\n",
       "      <th>RefBks</th>\n",
       "      <td>0.2145</td>\n",
       "    </tr>\n",
       "    <tr>\n",
       "      <th>ItalCook</th>\n",
       "      <td>0.1135</td>\n",
       "    </tr>\n",
       "    <tr>\n",
       "      <th>Florence</th>\n",
       "      <td>0.1085</td>\n",
       "    </tr>\n",
       "    <tr>\n",
       "      <th>ItalArt</th>\n",
       "      <td>0.0485</td>\n",
       "    </tr>\n",
       "    <tr>\n",
       "      <th>ItalAtlas</th>\n",
       "      <td>0.0370</td>\n",
       "    </tr>\n",
       "  </tbody>\n",
       "</table>\n",
       "</div>"
      ],
      "text/plain": [
       "           Support\n",
       "CookBks     0.4310\n",
       "ChildBks    0.4230\n",
       "DoItYBks    0.2820\n",
       "GeogBks     0.2760\n",
       "YouthBks    0.2475\n",
       "ArtBks      0.2410\n",
       "RefBks      0.2145\n",
       "ItalCook    0.1135\n",
       "Florence    0.1085\n",
       "ItalArt     0.0485\n",
       "ItalAtlas   0.0370"
      ]
     },
     "execution_count": 9,
     "metadata": {},
     "output_type": "execute_result"
    }
   ],
   "source": [
    "support_values = df.sum() / df.shape[0]\n",
    "\n",
    "support_df = pd.DataFrame(support_values, columns=[\"Support\"]).sort_values(\"Support\", ascending=False)\n",
    "support_df"
   ]
  },
  {
   "cell_type": "markdown",
   "id": "ab801dd4",
   "metadata": {},
   "source": [
    "# Step 4: Apply Apriori algorithm with different support and confidence values"
   ]
  },
  {
   "cell_type": "code",
   "execution_count": 10,
   "id": "aaa67cf1",
   "metadata": {},
   "outputs": [
    {
     "name": "stdout",
     "output_type": "stream",
     "text": [
      "Support: 0.1, Confidence: 0.5, Number of Rules: 49\n",
      "Support: 0.1, Confidence: 0.6, Number of Rules: 30\n",
      "Support: 0.1, Confidence: 0.7, Number of Rules: 19\n",
      "Support: 0.1, Confidence: 0.8, Number of Rules: 6\n",
      "Support: 0.1, Confidence: 0.9, Number of Rules: 1\n",
      "Support: 0.15, Confidence: 0.5, Number of Rules: 12\n",
      "Support: 0.15, Confidence: 0.6, Number of Rules: 11\n",
      "Support: 0.15, Confidence: 0.7, Number of Rules: 3\n",
      "Support: 0.15, Confidence: 0.8, Number of Rules: 0\n",
      "Support: 0.15, Confidence: 0.9, Number of Rules: 0\n",
      "Support: 0.2, Confidence: 0.5, Number of Rules: 2\n",
      "Support: 0.2, Confidence: 0.6, Number of Rules: 1\n",
      "Support: 0.2, Confidence: 0.7, Number of Rules: 0\n",
      "Support: 0.2, Confidence: 0.8, Number of Rules: 0\n",
      "Support: 0.2, Confidence: 0.9, Number of Rules: 0\n",
      "Support: 0.25, Confidence: 0.5, Number of Rules: 2\n",
      "Support: 0.25, Confidence: 0.6, Number of Rules: 1\n",
      "Support: 0.25, Confidence: 0.7, Number of Rules: 0\n",
      "Support: 0.25, Confidence: 0.8, Number of Rules: 0\n",
      "Support: 0.25, Confidence: 0.9, Number of Rules: 0\n",
      "Support: 0.3, Confidence: 0.5, Number of Rules: 0\n",
      "Support: 0.3, Confidence: 0.6, Number of Rules: 0\n",
      "Support: 0.3, Confidence: 0.7, Number of Rules: 0\n",
      "Support: 0.3, Confidence: 0.8, Number of Rules: 0\n",
      "Support: 0.3, Confidence: 0.9, Number of Rules: 0\n"
     ]
    }
   ],
   "source": [
    "supports = [0.1, 0.15, 0.2, 0.25, 0.3] \n",
    "confidences = [0.5, 0.6, 0.7, 0.8, 0.9]  \n",
    "\n",
    "for support in supports:\n",
    "    for confidence in confidences:\n",
    "       \n",
    "        frequent_itemsets = apriori(df, min_support=support, use_colnames=True)\n",
    "        rules = association_rules(frequent_itemsets, metric=\"confidence\", min_threshold=confidence)\n",
    "        print(f\"Support: {support}, Confidence: {confidence}, Number of Rules: {len(rules)}\")"
   ]
  },
  {
   "cell_type": "markdown",
   "id": "28df62bc",
   "metadata": {},
   "source": [
    "## Association Rules with 10% Support"
   ]
  },
  {
   "cell_type": "code",
   "execution_count": 11,
   "id": "46f31cf4",
   "metadata": {},
   "outputs": [],
   "source": [
    "Frequent_itemsets1 = apriori(df, min_support=0.1, use_colnames=True)\n",
    "rules1=association_rules(Frequent_itemsets1, metric='lift', min_threshold=1)"
   ]
  },
  {
   "cell_type": "code",
   "execution_count": 12,
   "id": "82107dbb",
   "metadata": {},
   "outputs": [
    {
     "data": {
      "text/html": [
       "<div>\n",
       "<style scoped>\n",
       "    .dataframe tbody tr th:only-of-type {\n",
       "        vertical-align: middle;\n",
       "    }\n",
       "\n",
       "    .dataframe tbody tr th {\n",
       "        vertical-align: top;\n",
       "    }\n",
       "\n",
       "    .dataframe thead th {\n",
       "        text-align: right;\n",
       "    }\n",
       "</style>\n",
       "<table border=\"1\" class=\"dataframe\">\n",
       "  <thead>\n",
       "    <tr style=\"text-align: right;\">\n",
       "      <th></th>\n",
       "      <th>antecedents</th>\n",
       "      <th>consequents</th>\n",
       "      <th>support</th>\n",
       "      <th>confidence</th>\n",
       "      <th>lift</th>\n",
       "    </tr>\n",
       "  </thead>\n",
       "  <tbody>\n",
       "    <tr>\n",
       "      <th>28</th>\n",
       "      <td>(CookBks)</td>\n",
       "      <td>(ItalCook)</td>\n",
       "      <td>0.1135</td>\n",
       "      <td>0.263341</td>\n",
       "      <td>2.320186</td>\n",
       "    </tr>\n",
       "    <tr>\n",
       "      <th>29</th>\n",
       "      <td>(ItalCook)</td>\n",
       "      <td>(CookBks)</td>\n",
       "      <td>0.1135</td>\n",
       "      <td>1.000000</td>\n",
       "      <td>2.320186</td>\n",
       "    </tr>\n",
       "    <tr>\n",
       "      <th>76</th>\n",
       "      <td>(ArtBks, ChildBks)</td>\n",
       "      <td>(GeogBks)</td>\n",
       "      <td>0.1020</td>\n",
       "      <td>0.627692</td>\n",
       "      <td>2.274247</td>\n",
       "    </tr>\n",
       "    <tr>\n",
       "      <th>81</th>\n",
       "      <td>(GeogBks)</td>\n",
       "      <td>(ArtBks, ChildBks)</td>\n",
       "      <td>0.1020</td>\n",
       "      <td>0.369565</td>\n",
       "      <td>2.274247</td>\n",
       "    </tr>\n",
       "    <tr>\n",
       "      <th>86</th>\n",
       "      <td>(ArtBks)</td>\n",
       "      <td>(CookBks, DoItYBks)</td>\n",
       "      <td>0.1015</td>\n",
       "      <td>0.421162</td>\n",
       "      <td>2.246196</td>\n",
       "    </tr>\n",
       "    <tr>\n",
       "      <th>83</th>\n",
       "      <td>(CookBks, DoItYBks)</td>\n",
       "      <td>(ArtBks)</td>\n",
       "      <td>0.1015</td>\n",
       "      <td>0.541333</td>\n",
       "      <td>2.246196</td>\n",
       "    </tr>\n",
       "    <tr>\n",
       "      <th>99</th>\n",
       "      <td>(GeogBks)</td>\n",
       "      <td>(CookBks, ArtBks)</td>\n",
       "      <td>0.1035</td>\n",
       "      <td>0.375000</td>\n",
       "      <td>2.245509</td>\n",
       "    </tr>\n",
       "    <tr>\n",
       "      <th>94</th>\n",
       "      <td>(CookBks, ArtBks)</td>\n",
       "      <td>(GeogBks)</td>\n",
       "      <td>0.1035</td>\n",
       "      <td>0.619760</td>\n",
       "      <td>2.245509</td>\n",
       "    </tr>\n",
       "    <tr>\n",
       "      <th>98</th>\n",
       "      <td>(ArtBks)</td>\n",
       "      <td>(CookBks, GeogBks)</td>\n",
       "      <td>0.1035</td>\n",
       "      <td>0.429461</td>\n",
       "      <td>2.230964</td>\n",
       "    </tr>\n",
       "    <tr>\n",
       "      <th>95</th>\n",
       "      <td>(CookBks, GeogBks)</td>\n",
       "      <td>(ArtBks)</td>\n",
       "      <td>0.1035</td>\n",
       "      <td>0.537662</td>\n",
       "      <td>2.230964</td>\n",
       "    </tr>\n",
       "  </tbody>\n",
       "</table>\n",
       "</div>"
      ],
      "text/plain": [
       "            antecedents          consequents  support  confidence      lift\n",
       "28            (CookBks)           (ItalCook)   0.1135    0.263341  2.320186\n",
       "29           (ItalCook)            (CookBks)   0.1135    1.000000  2.320186\n",
       "76   (ArtBks, ChildBks)            (GeogBks)   0.1020    0.627692  2.274247\n",
       "81            (GeogBks)   (ArtBks, ChildBks)   0.1020    0.369565  2.274247\n",
       "86             (ArtBks)  (CookBks, DoItYBks)   0.1015    0.421162  2.246196\n",
       "83  (CookBks, DoItYBks)             (ArtBks)   0.1015    0.541333  2.246196\n",
       "99            (GeogBks)    (CookBks, ArtBks)   0.1035    0.375000  2.245509\n",
       "94    (CookBks, ArtBks)            (GeogBks)   0.1035    0.619760  2.245509\n",
       "98             (ArtBks)   (CookBks, GeogBks)   0.1035    0.429461  2.230964\n",
       "95   (CookBks, GeogBks)             (ArtBks)   0.1035    0.537662  2.230964"
      ]
     },
     "execution_count": 12,
     "metadata": {},
     "output_type": "execute_result"
    }
   ],
   "source": [
    "rules10=rules1[['antecedents','consequents', 'support', 'confidence', 'lift' ]]\n",
    "rules10.sort_values('lift', ascending=False).head(10)"
   ]
  },
  {
   "cell_type": "markdown",
   "id": "4219556f",
   "metadata": {},
   "source": [
    "### - 50% Confidence"
   ]
  },
  {
   "cell_type": "code",
   "execution_count": 46,
   "id": "53e2384b",
   "metadata": {},
   "outputs": [
    {
     "data": {
      "text/html": [
       "<div>\n",
       "<style scoped>\n",
       "    .dataframe tbody tr th:only-of-type {\n",
       "        vertical-align: middle;\n",
       "    }\n",
       "\n",
       "    .dataframe tbody tr th {\n",
       "        vertical-align: top;\n",
       "    }\n",
       "\n",
       "    .dataframe thead th {\n",
       "        text-align: right;\n",
       "    }\n",
       "</style>\n",
       "<table border=\"1\" class=\"dataframe\">\n",
       "  <thead>\n",
       "    <tr style=\"text-align: right;\">\n",
       "      <th></th>\n",
       "      <th>antecedents</th>\n",
       "      <th>consequents</th>\n",
       "      <th>support</th>\n",
       "      <th>confidence</th>\n",
       "      <th>lift</th>\n",
       "    </tr>\n",
       "  </thead>\n",
       "  <tbody>\n",
       "    <tr>\n",
       "      <th>29</th>\n",
       "      <td>(ItalCook)</td>\n",
       "      <td>(CookBks)</td>\n",
       "      <td>0.1135</td>\n",
       "      <td>1.000000</td>\n",
       "      <td>2.320186</td>\n",
       "    </tr>\n",
       "    <tr>\n",
       "      <th>76</th>\n",
       "      <td>(ArtBks, ChildBks)</td>\n",
       "      <td>(GeogBks)</td>\n",
       "      <td>0.1020</td>\n",
       "      <td>0.627692</td>\n",
       "      <td>2.274247</td>\n",
       "    </tr>\n",
       "    <tr>\n",
       "      <th>83</th>\n",
       "      <td>(CookBks, DoItYBks)</td>\n",
       "      <td>(ArtBks)</td>\n",
       "      <td>0.1015</td>\n",
       "      <td>0.541333</td>\n",
       "      <td>2.246196</td>\n",
       "    </tr>\n",
       "    <tr>\n",
       "      <th>94</th>\n",
       "      <td>(CookBks, ArtBks)</td>\n",
       "      <td>(GeogBks)</td>\n",
       "      <td>0.1035</td>\n",
       "      <td>0.619760</td>\n",
       "      <td>2.245509</td>\n",
       "    </tr>\n",
       "    <tr>\n",
       "      <th>95</th>\n",
       "      <td>(CookBks, GeogBks)</td>\n",
       "      <td>(ArtBks)</td>\n",
       "      <td>0.1035</td>\n",
       "      <td>0.537662</td>\n",
       "      <td>2.230964</td>\n",
       "    </tr>\n",
       "    <tr>\n",
       "      <th>57</th>\n",
       "      <td>(RefBks)</td>\n",
       "      <td>(CookBks, ChildBks)</td>\n",
       "      <td>0.1225</td>\n",
       "      <td>0.571096</td>\n",
       "      <td>2.230842</td>\n",
       "    </tr>\n",
       "    <tr>\n",
       "      <th>78</th>\n",
       "      <td>(ChildBks, GeogBks)</td>\n",
       "      <td>(ArtBks)</td>\n",
       "      <td>0.1020</td>\n",
       "      <td>0.523077</td>\n",
       "      <td>2.170444</td>\n",
       "    </tr>\n",
       "    <tr>\n",
       "      <th>82</th>\n",
       "      <td>(CookBks, ArtBks)</td>\n",
       "      <td>(DoItYBks)</td>\n",
       "      <td>0.1015</td>\n",
       "      <td>0.607784</td>\n",
       "      <td>2.155264</td>\n",
       "    </tr>\n",
       "    <tr>\n",
       "      <th>64</th>\n",
       "      <td>(CookBks, ChildBks)</td>\n",
       "      <td>(GeogBks)</td>\n",
       "      <td>0.1495</td>\n",
       "      <td>0.583984</td>\n",
       "      <td>2.115885</td>\n",
       "    </tr>\n",
       "    <tr>\n",
       "      <th>69</th>\n",
       "      <td>(GeogBks)</td>\n",
       "      <td>(CookBks, ChildBks)</td>\n",
       "      <td>0.1495</td>\n",
       "      <td>0.541667</td>\n",
       "      <td>2.115885</td>\n",
       "    </tr>\n",
       "  </tbody>\n",
       "</table>\n",
       "</div>"
      ],
      "text/plain": [
       "            antecedents          consequents  support  confidence      lift\n",
       "29           (ItalCook)            (CookBks)   0.1135    1.000000  2.320186\n",
       "76   (ArtBks, ChildBks)            (GeogBks)   0.1020    0.627692  2.274247\n",
       "83  (CookBks, DoItYBks)             (ArtBks)   0.1015    0.541333  2.246196\n",
       "94    (CookBks, ArtBks)            (GeogBks)   0.1035    0.619760  2.245509\n",
       "95   (CookBks, GeogBks)             (ArtBks)   0.1035    0.537662  2.230964\n",
       "57             (RefBks)  (CookBks, ChildBks)   0.1225    0.571096  2.230842\n",
       "78  (ChildBks, GeogBks)             (ArtBks)   0.1020    0.523077  2.170444\n",
       "82    (CookBks, ArtBks)           (DoItYBks)   0.1015    0.607784  2.155264\n",
       "64  (CookBks, ChildBks)            (GeogBks)   0.1495    0.583984  2.115885\n",
       "69            (GeogBks)  (CookBks, ChildBks)   0.1495    0.541667  2.115885"
      ]
     },
     "execution_count": 46,
     "metadata": {},
     "output_type": "execute_result"
    }
   ],
   "source": [
    "rules15=rules10[rules1['confidence']>0.5]\n",
    "rules15.sort_values('lift', ascending=False).head(10)"
   ]
  },
  {
   "cell_type": "markdown",
   "id": "c1f61863",
   "metadata": {},
   "source": [
    "### - 60% Confidence"
   ]
  },
  {
   "cell_type": "code",
   "execution_count": null,
   "id": "26a4c688",
   "metadata": {},
   "outputs": [],
   "source": [
    "rules16=rules10[rules1['confidence']>0.6]\n",
    "rules16.sort_values('lift', ascending=False).head(10)"
   ]
  },
  {
   "cell_type": "markdown",
   "id": "7f0852a2",
   "metadata": {},
   "source": [
    "### - 70% Confidence"
   ]
  },
  {
   "cell_type": "code",
   "execution_count": null,
   "id": "ef3718f3",
   "metadata": {},
   "outputs": [],
   "source": [
    "rules17=rules10[rules1['confidence']>0.7]\n",
    "rules17.sort_values('lift', ascending=False).head(10)"
   ]
  },
  {
   "cell_type": "markdown",
   "id": "fc52f80a",
   "metadata": {},
   "source": [
    "### - 80% Confidence"
   ]
  },
  {
   "cell_type": "code",
   "execution_count": null,
   "id": "65555a58",
   "metadata": {},
   "outputs": [],
   "source": [
    "rules18=rules10[rules1['confidence']>0.8]\n",
    "rules18.sort_values('lift', ascending=False).head(10)"
   ]
  },
  {
   "cell_type": "markdown",
   "id": "0867620b",
   "metadata": {},
   "source": [
    "### - 90% Confidence"
   ]
  },
  {
   "cell_type": "code",
   "execution_count": null,
   "id": "05ec24a3",
   "metadata": {},
   "outputs": [],
   "source": [
    "rules19=rules10[rules1['confidence']>0.9]\n",
    "rules19.sort_values('lift', ascending=False).head(10)"
   ]
  },
  {
   "cell_type": "markdown",
   "id": "664f4340",
   "metadata": {},
   "source": [
    "## Association Rules with 15% Support"
   ]
  },
  {
   "cell_type": "code",
   "execution_count": null,
   "id": "1ec78871",
   "metadata": {},
   "outputs": [],
   "source": [
    "Frequent_itemsets15 = apriori(df, min_support=0.15, use_colnames=True)\n",
    "rules15=association_rules(Frequent_itemsets15, metric='lift', min_threshold=1)"
   ]
  },
  {
   "cell_type": "code",
   "execution_count": null,
   "id": "631cc1f6",
   "metadata": {},
   "outputs": [],
   "source": [
    "rules15=rules15[['antecedents','consequents', 'support', 'confidence', 'lift' ]]\n",
    "rules15.sort_values('lift', ascending=False).head(10)\n",
    "rules15.shape"
   ]
  },
  {
   "cell_type": "markdown",
   "id": "6a084172",
   "metadata": {},
   "source": [
    "### - 50% Confidence"
   ]
  },
  {
   "cell_type": "code",
   "execution_count": null,
   "id": "c6927f8c",
   "metadata": {},
   "outputs": [],
   "source": [
    "rules155=rules15[rules15['confidence']>0.5]\n",
    "rules155.sort_values('lift', ascending=False).head(10)"
   ]
  },
  {
   "cell_type": "markdown",
   "id": "4d4b2fa1",
   "metadata": {},
   "source": [
    "### - 60% Confidence"
   ]
  },
  {
   "cell_type": "code",
   "execution_count": null,
   "id": "0df22f0d",
   "metadata": {},
   "outputs": [],
   "source": [
    "rules156=rules15[rules15['confidence']>0.6]\n",
    "rules156.sort_values('lift', ascending=False).head(10)"
   ]
  },
  {
   "cell_type": "markdown",
   "id": "af7feaaa",
   "metadata": {},
   "source": [
    "### - 70% Confidence"
   ]
  },
  {
   "cell_type": "code",
   "execution_count": null,
   "id": "b3519729",
   "metadata": {},
   "outputs": [],
   "source": [
    "rules157=rules15[rules15['confidence']>0.7]\n",
    "rules157.sort_values('lift', ascending=False).head(10)"
   ]
  },
  {
   "cell_type": "markdown",
   "id": "470cfd54",
   "metadata": {},
   "source": [
    "## Association Rules with 20% Support"
   ]
  },
  {
   "cell_type": "code",
   "execution_count": null,
   "id": "f1a621b2",
   "metadata": {},
   "outputs": [],
   "source": [
    "Frequent_itemsets2 = apriori(df, min_support=0.2, use_colnames=True)\n",
    "rules2=association_rules(Frequent_itemsets2, metric='lift', min_threshold=1)"
   ]
  },
  {
   "cell_type": "code",
   "execution_count": null,
   "id": "7c7f81da",
   "metadata": {},
   "outputs": [],
   "source": [
    "rules2=rules2[['antecedents','consequents', 'support', 'confidence', 'lift' ]]\n",
    "rules2.sort_values('lift', ascending=False).head(10)"
   ]
  },
  {
   "cell_type": "markdown",
   "id": "c932e971",
   "metadata": {},
   "source": [
    "### - 50% Confidence"
   ]
  },
  {
   "cell_type": "code",
   "execution_count": null,
   "id": "46ca0efa",
   "metadata": {},
   "outputs": [],
   "source": [
    "rules25=rules2[rules2['confidence']>0.5]\n",
    "rules25.sort_values('lift', ascending=False).head(10)"
   ]
  },
  {
   "cell_type": "markdown",
   "id": "6539620d",
   "metadata": {},
   "source": [
    "### - 60% Confidence"
   ]
  },
  {
   "cell_type": "code",
   "execution_count": null,
   "id": "1f9729b9",
   "metadata": {},
   "outputs": [],
   "source": [
    "rules26=rules2[rules2['confidence']>0.6]\n",
    "rules26.sort_values('lift', ascending=False).head(10)"
   ]
  },
  {
   "cell_type": "markdown",
   "id": "2f3c29e1",
   "metadata": {},
   "source": [
    "## Association Rules with 25% Support"
   ]
  },
  {
   "cell_type": "code",
   "execution_count": null,
   "id": "48623ae2",
   "metadata": {},
   "outputs": [],
   "source": [
    "Frequent_itemsets25 = apriori(df, min_support=0.2, use_colnames=True)\n",
    "rules25=association_rules(Frequent_itemsets25, metric='lift', min_threshold=1)"
   ]
  },
  {
   "cell_type": "code",
   "execution_count": null,
   "id": "82d6fba1",
   "metadata": {},
   "outputs": [],
   "source": [
    "rules25=rules25[['antecedents','consequents', 'support', 'confidence', 'lift' ]]\n",
    "rules25.sort_values('lift', ascending=False).head(10)"
   ]
  },
  {
   "cell_type": "markdown",
   "id": "e8898af9",
   "metadata": {},
   "source": [
    "### - 50% Confidence"
   ]
  },
  {
   "cell_type": "code",
   "execution_count": null,
   "id": "af27506e",
   "metadata": {},
   "outputs": [],
   "source": [
    "rules255=rules25[rules2['confidence']>0.5]\n",
    "rules255.sort_values('lift', ascending=False).head(10)"
   ]
  },
  {
   "cell_type": "markdown",
   "id": "7c92b43e",
   "metadata": {},
   "source": [
    "### - 60% Confidence"
   ]
  },
  {
   "cell_type": "code",
   "execution_count": null,
   "id": "ecb20b86",
   "metadata": {},
   "outputs": [],
   "source": [
    "rules256=rules2[rules2['confidence']>0.6]\n",
    "rules256.sort_values('lift', ascending=False).head(10)"
   ]
  },
  {
   "cell_type": "markdown",
   "id": "865e0c2b",
   "metadata": {},
   "source": [
    "# Step 5: Change the minimum length in Apriori algorithm"
   ]
  },
  {
   "cell_type": "markdown",
   "id": "637c9166",
   "metadata": {},
   "source": [
    "### Minimum Length for Apriori: 2"
   ]
  },
  {
   "cell_type": "code",
   "execution_count": 22,
   "id": "e6407907",
   "metadata": {},
   "outputs": [
    {
     "data": {
      "text/plain": [
       "(16, 10)"
      ]
     },
     "execution_count": 22,
     "metadata": {},
     "output_type": "execute_result"
    }
   ],
   "source": [
    "frequent_itemsets_ln2 = apriori(df, min_support=0.1, use_colnames=True, max_len=2)\n",
    "rules_ln2 = association_rules(frequent_itemsets_ln2, metric=\"confidence\", min_threshold=0.5)\n",
    "rules_ln2.shape"
   ]
  },
  {
   "cell_type": "code",
   "execution_count": 23,
   "id": "4c34aa70",
   "metadata": {
    "scrolled": true
   },
   "outputs": [
    {
     "data": {
      "text/html": [
       "<div>\n",
       "<style scoped>\n",
       "    .dataframe tbody tr th:only-of-type {\n",
       "        vertical-align: middle;\n",
       "    }\n",
       "\n",
       "    .dataframe tbody tr th {\n",
       "        vertical-align: top;\n",
       "    }\n",
       "\n",
       "    .dataframe thead th {\n",
       "        text-align: right;\n",
       "    }\n",
       "</style>\n",
       "<table border=\"1\" class=\"dataframe\">\n",
       "  <thead>\n",
       "    <tr style=\"text-align: right;\">\n",
       "      <th></th>\n",
       "      <th>antecedents</th>\n",
       "      <th>consequents</th>\n",
       "      <th>support</th>\n",
       "      <th>confidence</th>\n",
       "      <th>lift</th>\n",
       "    </tr>\n",
       "  </thead>\n",
       "  <tbody>\n",
       "    <tr>\n",
       "      <th>12</th>\n",
       "      <td>(ItalCook)</td>\n",
       "      <td>(CookBks)</td>\n",
       "      <td>0.1135</td>\n",
       "      <td>1.000000</td>\n",
       "      <td>2.320186</td>\n",
       "    </tr>\n",
       "    <tr>\n",
       "      <th>15</th>\n",
       "      <td>(ArtBks)</td>\n",
       "      <td>(GeogBks)</td>\n",
       "      <td>0.1275</td>\n",
       "      <td>0.529046</td>\n",
       "      <td>1.916832</td>\n",
       "    </tr>\n",
       "    <tr>\n",
       "      <th>14</th>\n",
       "      <td>(RefBks)</td>\n",
       "      <td>(GeogBks)</td>\n",
       "      <td>0.1105</td>\n",
       "      <td>0.515152</td>\n",
       "      <td>1.866491</td>\n",
       "    </tr>\n",
       "    <tr>\n",
       "      <th>13</th>\n",
       "      <td>(ArtBks)</td>\n",
       "      <td>(DoItYBks)</td>\n",
       "      <td>0.1235</td>\n",
       "      <td>0.512448</td>\n",
       "      <td>1.817192</td>\n",
       "    </tr>\n",
       "    <tr>\n",
       "      <th>6</th>\n",
       "      <td>(GeogBks)</td>\n",
       "      <td>(ChildBks)</td>\n",
       "      <td>0.1950</td>\n",
       "      <td>0.706522</td>\n",
       "      <td>1.670264</td>\n",
       "    </tr>\n",
       "    <tr>\n",
       "      <th>4</th>\n",
       "      <td>(RefBks)</td>\n",
       "      <td>(ChildBks)</td>\n",
       "      <td>0.1515</td>\n",
       "      <td>0.706294</td>\n",
       "      <td>1.669725</td>\n",
       "    </tr>\n",
       "    <tr>\n",
       "      <th>9</th>\n",
       "      <td>(RefBks)</td>\n",
       "      <td>(CookBks)</td>\n",
       "      <td>0.1525</td>\n",
       "      <td>0.710956</td>\n",
       "      <td>1.649549</td>\n",
       "    </tr>\n",
       "    <tr>\n",
       "      <th>11</th>\n",
       "      <td>(GeogBks)</td>\n",
       "      <td>(CookBks)</td>\n",
       "      <td>0.1925</td>\n",
       "      <td>0.697464</td>\n",
       "      <td>1.618245</td>\n",
       "    </tr>\n",
       "    <tr>\n",
       "      <th>10</th>\n",
       "      <td>(ArtBks)</td>\n",
       "      <td>(CookBks)</td>\n",
       "      <td>0.1670</td>\n",
       "      <td>0.692946</td>\n",
       "      <td>1.607763</td>\n",
       "    </tr>\n",
       "    <tr>\n",
       "      <th>5</th>\n",
       "      <td>(ArtBks)</td>\n",
       "      <td>(ChildBks)</td>\n",
       "      <td>0.1625</td>\n",
       "      <td>0.674274</td>\n",
       "      <td>1.594028</td>\n",
       "    </tr>\n",
       "  </tbody>\n",
       "</table>\n",
       "</div>"
      ],
      "text/plain": [
       "   antecedents consequents  support  confidence      lift\n",
       "12  (ItalCook)   (CookBks)   0.1135    1.000000  2.320186\n",
       "15    (ArtBks)   (GeogBks)   0.1275    0.529046  1.916832\n",
       "14    (RefBks)   (GeogBks)   0.1105    0.515152  1.866491\n",
       "13    (ArtBks)  (DoItYBks)   0.1235    0.512448  1.817192\n",
       "6    (GeogBks)  (ChildBks)   0.1950    0.706522  1.670264\n",
       "4     (RefBks)  (ChildBks)   0.1515    0.706294  1.669725\n",
       "9     (RefBks)   (CookBks)   0.1525    0.710956  1.649549\n",
       "11   (GeogBks)   (CookBks)   0.1925    0.697464  1.618245\n",
       "10    (ArtBks)   (CookBks)   0.1670    0.692946  1.607763\n",
       "5     (ArtBks)  (ChildBks)   0.1625    0.674274  1.594028"
      ]
     },
     "execution_count": 23,
     "metadata": {},
     "output_type": "execute_result"
    }
   ],
   "source": [
    "rules_ln2=rules_ln2[['antecedents','consequents', 'support', 'confidence', 'lift' ]]\n",
    "rules_ln2.sort_values('lift', ascending=False).head(10)"
   ]
  },
  {
   "cell_type": "markdown",
   "id": "1d23341e",
   "metadata": {},
   "source": [
    "### Minimum Length for Apriori: 3"
   ]
  },
  {
   "cell_type": "code",
   "execution_count": 24,
   "id": "24009719",
   "metadata": {},
   "outputs": [
    {
     "data": {
      "text/plain": [
       "(49, 10)"
      ]
     },
     "execution_count": 24,
     "metadata": {},
     "output_type": "execute_result"
    }
   ],
   "source": [
    "frequent_itemsets_ln3 = apriori(df, min_support=0.1, use_colnames=True, max_len=3)\n",
    "rules_ln3 = association_rules(frequent_itemsets_ln3, metric=\"confidence\", min_threshold=0.5)\n",
    "rules_ln3.shape"
   ]
  },
  {
   "cell_type": "code",
   "execution_count": 25,
   "id": "c05ec5c5",
   "metadata": {},
   "outputs": [
    {
     "data": {
      "text/html": [
       "<div>\n",
       "<style scoped>\n",
       "    .dataframe tbody tr th:only-of-type {\n",
       "        vertical-align: middle;\n",
       "    }\n",
       "\n",
       "    .dataframe tbody tr th {\n",
       "        vertical-align: top;\n",
       "    }\n",
       "\n",
       "    .dataframe thead th {\n",
       "        text-align: right;\n",
       "    }\n",
       "</style>\n",
       "<table border=\"1\" class=\"dataframe\">\n",
       "  <thead>\n",
       "    <tr style=\"text-align: right;\">\n",
       "      <th></th>\n",
       "      <th>antecedents</th>\n",
       "      <th>consequents</th>\n",
       "      <th>support</th>\n",
       "      <th>confidence</th>\n",
       "      <th>lift</th>\n",
       "    </tr>\n",
       "  </thead>\n",
       "  <tbody>\n",
       "    <tr>\n",
       "      <th>12</th>\n",
       "      <td>(ItalCook)</td>\n",
       "      <td>(CookBks)</td>\n",
       "      <td>0.1135</td>\n",
       "      <td>1.000000</td>\n",
       "      <td>2.320186</td>\n",
       "    </tr>\n",
       "    <tr>\n",
       "      <th>37</th>\n",
       "      <td>(ArtBks, ChildBks)</td>\n",
       "      <td>(GeogBks)</td>\n",
       "      <td>0.1020</td>\n",
       "      <td>0.627692</td>\n",
       "      <td>2.274247</td>\n",
       "    </tr>\n",
       "    <tr>\n",
       "      <th>41</th>\n",
       "      <td>(CookBks, DoItYBks)</td>\n",
       "      <td>(ArtBks)</td>\n",
       "      <td>0.1015</td>\n",
       "      <td>0.541333</td>\n",
       "      <td>2.246196</td>\n",
       "    </tr>\n",
       "    <tr>\n",
       "      <th>46</th>\n",
       "      <td>(CookBks, ArtBks)</td>\n",
       "      <td>(GeogBks)</td>\n",
       "      <td>0.1035</td>\n",
       "      <td>0.619760</td>\n",
       "      <td>2.245509</td>\n",
       "    </tr>\n",
       "    <tr>\n",
       "      <th>47</th>\n",
       "      <td>(CookBks, GeogBks)</td>\n",
       "      <td>(ArtBks)</td>\n",
       "      <td>0.1035</td>\n",
       "      <td>0.537662</td>\n",
       "      <td>2.230964</td>\n",
       "    </tr>\n",
       "    <tr>\n",
       "      <th>26</th>\n",
       "      <td>(RefBks)</td>\n",
       "      <td>(CookBks, ChildBks)</td>\n",
       "      <td>0.1225</td>\n",
       "      <td>0.571096</td>\n",
       "      <td>2.230842</td>\n",
       "    </tr>\n",
       "    <tr>\n",
       "      <th>39</th>\n",
       "      <td>(ChildBks, GeogBks)</td>\n",
       "      <td>(ArtBks)</td>\n",
       "      <td>0.1020</td>\n",
       "      <td>0.523077</td>\n",
       "      <td>2.170444</td>\n",
       "    </tr>\n",
       "    <tr>\n",
       "      <th>40</th>\n",
       "      <td>(CookBks, ArtBks)</td>\n",
       "      <td>(DoItYBks)</td>\n",
       "      <td>0.1015</td>\n",
       "      <td>0.607784</td>\n",
       "      <td>2.155264</td>\n",
       "    </tr>\n",
       "    <tr>\n",
       "      <th>30</th>\n",
       "      <td>(CookBks, ChildBks)</td>\n",
       "      <td>(GeogBks)</td>\n",
       "      <td>0.1495</td>\n",
       "      <td>0.583984</td>\n",
       "      <td>2.115885</td>\n",
       "    </tr>\n",
       "    <tr>\n",
       "      <th>33</th>\n",
       "      <td>(GeogBks)</td>\n",
       "      <td>(CookBks, ChildBks)</td>\n",
       "      <td>0.1495</td>\n",
       "      <td>0.541667</td>\n",
       "      <td>2.115885</td>\n",
       "    </tr>\n",
       "  </tbody>\n",
       "</table>\n",
       "</div>"
      ],
      "text/plain": [
       "            antecedents          consequents  support  confidence      lift\n",
       "12           (ItalCook)            (CookBks)   0.1135    1.000000  2.320186\n",
       "37   (ArtBks, ChildBks)            (GeogBks)   0.1020    0.627692  2.274247\n",
       "41  (CookBks, DoItYBks)             (ArtBks)   0.1015    0.541333  2.246196\n",
       "46    (CookBks, ArtBks)            (GeogBks)   0.1035    0.619760  2.245509\n",
       "47   (CookBks, GeogBks)             (ArtBks)   0.1035    0.537662  2.230964\n",
       "26             (RefBks)  (CookBks, ChildBks)   0.1225    0.571096  2.230842\n",
       "39  (ChildBks, GeogBks)             (ArtBks)   0.1020    0.523077  2.170444\n",
       "40    (CookBks, ArtBks)           (DoItYBks)   0.1015    0.607784  2.155264\n",
       "30  (CookBks, ChildBks)            (GeogBks)   0.1495    0.583984  2.115885\n",
       "33            (GeogBks)  (CookBks, ChildBks)   0.1495    0.541667  2.115885"
      ]
     },
     "execution_count": 25,
     "metadata": {},
     "output_type": "execute_result"
    }
   ],
   "source": [
    "rules_ln3=rules_ln3[['antecedents','consequents', 'support', 'confidence', 'lift' ]]\n",
    "rules_ln3.sort_values('lift', ascending=False).head(10)"
   ]
  },
  {
   "cell_type": "markdown",
   "id": "11c423be",
   "metadata": {},
   "source": [
    "# Step 6: Visualize the obtained rules using different plots"
   ]
  },
  {
   "cell_type": "code",
   "execution_count": 14,
   "id": "cbb02ce1",
   "metadata": {},
   "outputs": [
    {
     "data": {
      "image/png": "[encoded data removed]",
      "text/plain": [
       "<Figure size 720x432 with 1 Axes>"
      ]
     },
     "metadata": {
      "needs_background": "light"
     },
     "output_type": "display_data"
    }
   ],
   "source": [
    "support_values = np.array([0.1, 0.1, 0.1, 0.2, 0.2, 0.2, 0.3, 0.3, 0.3])\n",
    "confidence_values = np.array([0.5, 0.6, 0.7, 0.5, 0.6, 0.7, 0.5, 0.6, 0.7])\n",
    "num_rules = np.array([49, 30, 19, 2, 1, 0, 0, 0, 0])\n",
    "\n",
    "\n",
    "plt.figure(figsize=(10, 6))\n",
    "plt.bar(range(len(num_rules)), num_rules, color='skyblue')\n",
    "plt.xticks(range(len(num_rules)), [f\"Support: {s}, Confidence: {c}\" for s, c in zip(support_values, confidence_values)], rotation=45, ha='right')\n",
    "plt.xlabel('Support and Confidence Values')\n",
    "plt.ylabel('Number of Rules')\n",
    "plt.title('Number of Rules for Different Support and Confidence Values')\n",
    "plt.tight_layout()\n",
    "plt.show()"
   ]
  },
  {
   "cell_type": "markdown",
   "id": "3dfebf33",
   "metadata": {},
   "source": [
    "### At Support 10% and Confidence 70%"
   ]
  },
  {
   "cell_type": "code",
   "execution_count": 26,
   "id": "7538a4b5",
   "metadata": {},
   "outputs": [],
   "source": [
    "Frequent_itemsets_fnl = apriori(df, min_support=0.1, use_colnames=True)\n",
    "rules_fnl=association_rules(Frequent_itemsets_fnl, metric='confidence', min_threshold=0.7)"
   ]
  },
  {
   "cell_type": "code",
   "execution_count": 27,
   "id": "73031076",
   "metadata": {},
   "outputs": [
    {
     "data": {
      "text/html": [
       "<div>\n",
       "<style scoped>\n",
       "    .dataframe tbody tr th:only-of-type {\n",
       "        vertical-align: middle;\n",
       "    }\n",
       "\n",
       "    .dataframe tbody tr th {\n",
       "        vertical-align: top;\n",
       "    }\n",
       "\n",
       "    .dataframe thead th {\n",
       "        text-align: right;\n",
       "    }\n",
       "</style>\n",
       "<table border=\"1\" class=\"dataframe\">\n",
       "  <thead>\n",
       "    <tr style=\"text-align: right;\">\n",
       "      <th></th>\n",
       "      <th>antecedents</th>\n",
       "      <th>consequents</th>\n",
       "      <th>support</th>\n",
       "      <th>confidence</th>\n",
       "      <th>lift</th>\n",
       "    </tr>\n",
       "  </thead>\n",
       "  <tbody>\n",
       "    <tr>\n",
       "      <th>3</th>\n",
       "      <td>(ItalCook)</td>\n",
       "      <td>(CookBks)</td>\n",
       "      <td>0.1135</td>\n",
       "      <td>1.000000</td>\n",
       "      <td>2.320186</td>\n",
       "    </tr>\n",
       "    <tr>\n",
       "      <th>16</th>\n",
       "      <td>(ArtBks, DoItYBks)</td>\n",
       "      <td>(CookBks)</td>\n",
       "      <td>0.1015</td>\n",
       "      <td>0.821862</td>\n",
       "      <td>1.906873</td>\n",
       "    </tr>\n",
       "    <tr>\n",
       "      <th>17</th>\n",
       "      <td>(DoItYBks, GeogBks)</td>\n",
       "      <td>(CookBks)</td>\n",
       "      <td>0.1085</td>\n",
       "      <td>0.818868</td>\n",
       "      <td>1.899926</td>\n",
       "    </tr>\n",
       "    <tr>\n",
       "      <th>8</th>\n",
       "      <td>(CookBks, RefBks)</td>\n",
       "      <td>(ChildBks)</td>\n",
       "      <td>0.1225</td>\n",
       "      <td>0.803279</td>\n",
       "      <td>1.899004</td>\n",
       "    </tr>\n",
       "    <tr>\n",
       "      <th>15</th>\n",
       "      <td>(ArtBks, GeogBks)</td>\n",
       "      <td>(ChildBks)</td>\n",
       "      <td>0.1020</td>\n",
       "      <td>0.800000</td>\n",
       "      <td>1.891253</td>\n",
       "    </tr>\n",
       "    <tr>\n",
       "      <th>18</th>\n",
       "      <td>(ArtBks, GeogBks)</td>\n",
       "      <td>(CookBks)</td>\n",
       "      <td>0.1035</td>\n",
       "      <td>0.811765</td>\n",
       "      <td>1.883445</td>\n",
       "    </tr>\n",
       "    <tr>\n",
       "      <th>5</th>\n",
       "      <td>(CookBks, YouthBks)</td>\n",
       "      <td>(ChildBks)</td>\n",
       "      <td>0.1290</td>\n",
       "      <td>0.796296</td>\n",
       "      <td>1.882497</td>\n",
       "    </tr>\n",
       "    <tr>\n",
       "      <th>9</th>\n",
       "      <td>(ChildBks, RefBks)</td>\n",
       "      <td>(CookBks)</td>\n",
       "      <td>0.1225</td>\n",
       "      <td>0.808581</td>\n",
       "      <td>1.876058</td>\n",
       "    </tr>\n",
       "    <tr>\n",
       "      <th>14</th>\n",
       "      <td>(DoItYBks, GeogBks)</td>\n",
       "      <td>(ChildBks)</td>\n",
       "      <td>0.1045</td>\n",
       "      <td>0.788679</td>\n",
       "      <td>1.864490</td>\n",
       "    </tr>\n",
       "    <tr>\n",
       "      <th>7</th>\n",
       "      <td>(DoItYBks, ChildBks)</td>\n",
       "      <td>(CookBks)</td>\n",
       "      <td>0.1460</td>\n",
       "      <td>0.793478</td>\n",
       "      <td>1.841017</td>\n",
       "    </tr>\n",
       "  </tbody>\n",
       "</table>\n",
       "</div>"
      ],
      "text/plain": [
       "             antecedents consequents  support  confidence      lift\n",
       "3             (ItalCook)   (CookBks)   0.1135    1.000000  2.320186\n",
       "16    (ArtBks, DoItYBks)   (CookBks)   0.1015    0.821862  1.906873\n",
       "17   (DoItYBks, GeogBks)   (CookBks)   0.1085    0.818868  1.899926\n",
       "8      (CookBks, RefBks)  (ChildBks)   0.1225    0.803279  1.899004\n",
       "15     (ArtBks, GeogBks)  (ChildBks)   0.1020    0.800000  1.891253\n",
       "18     (ArtBks, GeogBks)   (CookBks)   0.1035    0.811765  1.883445\n",
       "5    (CookBks, YouthBks)  (ChildBks)   0.1290    0.796296  1.882497\n",
       "9     (ChildBks, RefBks)   (CookBks)   0.1225    0.808581  1.876058\n",
       "14   (DoItYBks, GeogBks)  (ChildBks)   0.1045    0.788679  1.864490\n",
       "7   (DoItYBks, ChildBks)   (CookBks)   0.1460    0.793478  1.841017"
      ]
     },
     "execution_count": 27,
     "metadata": {},
     "output_type": "execute_result"
    }
   ],
   "source": [
    "rules_fnl1=rules_fnl[['antecedents','consequents', 'support', 'confidence', 'lift' ]]\n",
    "rules_fnl1.sort_values('lift', ascending=False).head(10)"
   ]
  },
  {
   "cell_type": "code",
   "execution_count": 42,
   "id": "831ccb64",
   "metadata": {},
   "outputs": [
    {
     "name": "stdout",
     "output_type": "stream",
     "text": [
      "Rule: RefBks -> ChildBks\n",
      "Support: 0.1515\n",
      "Confidence: 0.7062937062937062\n",
      "Lift: 1.669725073980393\n",
      "=====================================\n",
      "Rule: GeogBks -> ChildBks\n",
      "Support: 0.195\n",
      "Confidence: 0.7065217391304347\n",
      "Lift: 1.6702641587007914\n",
      "=====================================\n",
      "Rule: RefBks -> CookBks\n",
      "Support: 0.1525\n",
      "Confidence: 0.710955710955711\n",
      "Lift: 1.649549213354318\n",
      "=====================================\n",
      "Rule: ItalCook -> CookBks\n",
      "Support: 0.1135\n",
      "Confidence: 1.0\n",
      "Lift: 2.320185614849188\n",
      "=====================================\n",
      "Rule: YouthBks, ChildBks -> CookBks\n",
      "Support: 0.129\n",
      "Confidence: 0.7818181818181819\n",
      "Lift: 1.8139632988820924\n",
      "=====================================\n",
      "Rule: CookBks, YouthBks -> ChildBks\n",
      "Support: 0.129\n",
      "Confidence: 0.7962962962962963\n",
      "Lift: 1.8824971543647666\n",
      "=====================================\n",
      "Rule: CookBks, DoItYBks -> ChildBks\n",
      "Support: 0.146\n",
      "Confidence: 0.7786666666666666\n",
      "Lift: 1.8408195429472025\n",
      "=====================================\n",
      "Rule: DoItYBks, ChildBks -> CookBks\n",
      "Support: 0.146\n",
      "Confidence: 0.7934782608695652\n",
      "Lift: 1.8410168465651164\n",
      "=====================================\n",
      "Rule: CookBks, RefBks -> ChildBks\n",
      "Support: 0.1225\n",
      "Confidence: 0.8032786885245902\n",
      "Lift: 1.8990039917839012\n",
      "=====================================\n",
      "Rule: ChildBks, RefBks -> CookBks\n",
      "Support: 0.1225\n",
      "Confidence: 0.8085808580858086\n",
      "Lift: 1.8760576753731057\n",
      "=====================================\n",
      "Rule: CookBks, ArtBks -> ChildBks\n",
      "Support: 0.1265\n",
      "Confidence: 0.7574850299401197\n",
      "Lift: 1.7907447516314887\n",
      "=====================================\n",
      "Rule: ArtBks, ChildBks -> CookBks\n",
      "Support: 0.1265\n",
      "Confidence: 0.7784615384615384\n",
      "Lift: 1.8061752632518293\n",
      "=====================================\n",
      "Rule: CookBks, GeogBks -> ChildBks\n",
      "Support: 0.1495\n",
      "Confidence: 0.7766233766233765\n",
      "Lift: 1.835989070031623\n",
      "=====================================\n",
      "Rule: ChildBks, GeogBks -> CookBks\n",
      "Support: 0.1495\n",
      "Confidence: 0.7666666666666666\n",
      "Lift: 1.7788089713843773\n",
      "=====================================\n",
      "Rule: DoItYBks, GeogBks -> ChildBks\n",
      "Support: 0.1045\n",
      "Confidence: 0.7886792452830188\n",
      "Lift: 1.8644899415674203\n",
      "=====================================\n",
      "Rule: ArtBks, GeogBks -> ChildBks\n",
      "Support: 0.102\n",
      "Confidence: 0.7999999999999999\n",
      "Lift: 1.8912529550827422\n",
      "=====================================\n",
      "Rule: ArtBks, DoItYBks -> CookBks\n",
      "Support: 0.1015\n",
      "Confidence: 0.8218623481781377\n",
      "Lift: 1.90687319762909\n",
      "=====================================\n",
      "Rule: DoItYBks, GeogBks -> CookBks\n",
      "Support: 0.1085\n",
      "Confidence: 0.8188679245283018\n",
      "Lift: 1.8999255789519764\n",
      "=====================================\n",
      "Rule: ArtBks, GeogBks -> CookBks\n",
      "Support: 0.1035\n",
      "Confidence: 0.8117647058823528\n",
      "Lift: 1.883444793230517\n",
      "=====================================\n"
     ]
    }
   ],
   "source": [
    "for index, row in rules_fnl.iterrows():\n",
    "    antecedents = ', '.join(row['antecedents'])\n",
    "    consequents = ', '.join(row['consequents'])\n",
    "    \n",
    "    print(\"Rule: \" + antecedents + \" -> \" + consequents)\n",
    "    print(\"Support: \" + str(row['support']))\n",
    "    print(\"Confidence: \" + str(row['confidence']))\n",
    "    print(\"Lift: \" + str(row['lift']))\n",
    "    print(\"=====================================\")\n"
   ]
  },
  {
   "cell_type": "code",
   "execution_count": 30,
   "id": "fcda35a7",
   "metadata": {
    "scrolled": false
   },
   "outputs": [
    {
     "data": {
      "image/png": "[encoded data removed]",
      "text/plain": [
       "<Figure size 720x432 with 1 Axes>"
      ]
     },
     "metadata": {
      "needs_background": "light"
     },
     "output_type": "display_data"
    }
   ],
   "source": [
    "plt.figure(figsize=(10, 6))\n",
    "plt.scatter(rules_fnl['support'], rules_fnl['confidence'], alpha=0.5)\n",
    "plt.xlabel('Support')\n",
    "plt.ylabel('Confidence')\n",
    "plt.title('Association Rules: Support vs Confidence')\n",
    "plt.show()"
   ]
  },
  {
   "cell_type": "code",
   "execution_count": 32,
   "id": "33edc072",
   "metadata": {},
   "outputs": [
    {
     "data": {
      "image/png": "[encoded data removed]",
      "text/plain": [
       "<Figure size 720x576 with 1 Axes>"
      ]
     },
     "metadata": {
      "needs_background": "light"
     },
     "output_type": "display_data"
    }
   ],
   "source": [
    "rules_fnl_sorted = rules_fnl.sort_values(by='confidence', ascending=False)\n",
    "plt.figure(figsize=(10, 8))\n",
    "plt.barh(range(len(rules_fnl_sorted)), rules_fnl_sorted['confidence'], color='skyblue')\n",
    "plt.yticks(range(len(rules_fnl_sorted)), [f\"Rule {i+1}\" for i in range(len(rules_fnl_sorted))])\n",
    "plt.xlabel('Confidence')\n",
    "plt.ylabel('Rule')\n",
    "plt.title('Association Rules: Confidence')\n",
    "plt.grid(axis='x')\n",
    "plt.show()"
   ]
  },
  {
   "cell_type": "markdown",
   "id": "dd3d0321",
   "metadata": {},
   "source": [
    "### At Support 20% and Confidence 60%"
   ]
  },
  {
   "cell_type": "code",
   "execution_count": 20,
   "id": "c2e9d517",
   "metadata": {},
   "outputs": [],
   "source": [
    "Frequent_itemsets_fnl2 = apriori(df, min_support=0.2, use_colnames=True)\n",
    "rules_fnl2=association_rules(Frequent_itemsets_fnl2, metric='confidence', min_threshold=0.6)"
   ]
  },
  {
   "cell_type": "code",
   "execution_count": 21,
   "id": "06cb05bf",
   "metadata": {},
   "outputs": [
    {
     "data": {
      "text/html": [
       "<div>\n",
       "<style scoped>\n",
       "    .dataframe tbody tr th:only-of-type {\n",
       "        vertical-align: middle;\n",
       "    }\n",
       "\n",
       "    .dataframe tbody tr th {\n",
       "        vertical-align: top;\n",
       "    }\n",
       "\n",
       "    .dataframe thead th {\n",
       "        text-align: right;\n",
       "    }\n",
       "</style>\n",
       "<table border=\"1\" class=\"dataframe\">\n",
       "  <thead>\n",
       "    <tr style=\"text-align: right;\">\n",
       "      <th></th>\n",
       "      <th>antecedents</th>\n",
       "      <th>consequents</th>\n",
       "      <th>support</th>\n",
       "      <th>confidence</th>\n",
       "      <th>lift</th>\n",
       "    </tr>\n",
       "  </thead>\n",
       "  <tbody>\n",
       "    <tr>\n",
       "      <th>0</th>\n",
       "      <td>(ChildBks)</td>\n",
       "      <td>(CookBks)</td>\n",
       "      <td>0.256</td>\n",
       "      <td>0.605201</td>\n",
       "      <td>1.404179</td>\n",
       "    </tr>\n",
       "  </tbody>\n",
       "</table>\n",
       "</div>"
      ],
      "text/plain": [
       "  antecedents consequents  support  confidence      lift\n",
       "0  (ChildBks)   (CookBks)    0.256    0.605201  1.404179"
      ]
     },
     "execution_count": 21,
     "metadata": {},
     "output_type": "execute_result"
    }
   ],
   "source": [
    "rules_fnl2=rules_fnl2[['antecedents','consequents', 'support', 'confidence', 'lift' ]]\n",
    "rules_fnl2.sort_values('lift', ascending=False).head(10)"
   ]
  },
  {
   "cell_type": "code",
   "execution_count": 44,
   "id": "3925fd10",
   "metadata": {},
   "outputs": [
    {
     "name": "stdout",
     "output_type": "stream",
     "text": [
      "Rule: ChildBks -> CookBks\n",
      "Support: 0.256\n",
      "Confidence: 0.6052009456264775\n",
      "Lift: 1.4041785281356787\n",
      "=====================================\n"
     ]
    }
   ],
   "source": [
    "for index, row in rules_fnl2.iterrows():\n",
    "    antecedents = ', '.join(row['antecedents'])\n",
    "    consequents = ', '.join(row['consequents'])\n",
    "    \n",
    "    print(\"Rule: \" + antecedents + \" -> \" + consequents)\n",
    "    print(\"Support: \" + str(row['support']))\n",
    "    print(\"Confidence: \" + str(row['confidence']))\n",
    "    print(\"Lift: \" + str(row['lift']))\n",
    "    print(\"=====================================\")\n"
   ]
  },
  {
   "cell_type": "code",
   "execution_count": 39,
   "id": "50ef83aa",
   "metadata": {},
   "outputs": [
    {
     "data": {
      "image/png": "[encoded data removed]",
      "text/plain": [
       "<Figure size 720x576 with 1 Axes>"
      ]
     },
     "metadata": {
      "needs_background": "light"
     },
     "output_type": "display_data"
    }
   ],
   "source": [
    "plt.figure(figsize=(10, 8))\n",
    "plt.scatter(rules_fnl2['support'], rules_fnl2['confidence'], alpha=0.8, c='skyblue')\n",
    "plt.xlabel('Support')\n",
    "plt.ylabel('Confidence')\n",
    "plt.title('Association Rules with Support 0.2 and Confidence 0.6: Support vs Confidence')\n",
    "plt.grid(True)\n",
    "plt.show()"
   ]
  },
  {
   "cell_type": "code",
   "execution_count": 38,
   "id": "0568f662",
   "metadata": {},
   "outputs": [
    {
     "data": {
      "image/png": "[encoded data removed]",
      "text/plain": [
       "<Figure size 720x576 with 1 Axes>"
      ]
     },
     "metadata": {
      "needs_background": "light"
     },
     "output_type": "display_data"
    }
   ],
   "source": [
    "rules_fnl2_sorted = rules_fnl2.sort_values(by='confidence', ascending=False)\n",
    "\n",
    "# Create a bar plot\n",
    "plt.figure(figsize=(10, 8))\n",
    "plt.barh(range(len(rules_fnl2_sorted)), rules_fnl2_sorted['confidence'], color='skyblue')\n",
    "plt.yticks(range(len(rules_fnl2_sorted)), [f\"Rule {i+1}\" for i in range(len(rules_fnl2_sorted))])\n",
    "plt.xlabel('Confidence')\n",
    "plt.ylabel('Rule')\n",
    "plt.title('Association Rules with Support 0.2 and Confidence 0.6: Confidence')\n",
    "plt.grid(axis='x')\n",
    "plt.show()"
   ]
  },
  {
   "cell_type": "markdown",
   "id": "014df37a",
   "metadata": {},
   "source": [
    "- In summary, the association rule analysis revealed a notable association between the purchase of ChildBks (Children's Books) and CookBks (Cookbooks), with a support of 0.256, indicating that this association occurs in approximately 25.6% of transactions. The confidence value of 0.605201 suggests that there is a 60.52% chance that if a customer buys ChildBks, they will also buy CookBks. Additionally, the lift value of 1.404179 indicates that the likelihood of purchasing CookBks increases by approximately 40.42% when ChildBks are also purchased, compared to their individual probabilities."
   ]
  },
  {
   "cell_type": "markdown",
   "id": "bae550a2",
   "metadata": {},
   "source": [
    "## ---END---"
   ]
  }
 ],
 "metadata": {
  "kernelspec": {
   "display_name": "Python 3 (ipykernel)",
   "language": "python",
   "name": "python3"
  },
  "language_info": {
   "codemirror_mode": {
    "name": "ipython",
    "version": 3
   },
   "file_extension": ".py",
   "mimetype": "text/x-python",
   "name": "python",
   "nbconvert_exporter": "python",
   "pygments_lexer": "ipython3",
   "version": "3.9.7"
  }
 },
 "nbformat": 4,
 "nbformat_minor": 5
}
