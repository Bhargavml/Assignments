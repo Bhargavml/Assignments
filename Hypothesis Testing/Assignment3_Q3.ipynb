{
 "cells": [
  {
   "cell_type": "markdown",
   "id": "dcd3eddd-7920-4dbc-aea1-10d65202c573",
   "metadata": {},
   "source": [
    "<img src=\"Q3.png\" alt=\"Q3_image\" width=\"400\" height=\"300\">"
   ]
  },
  {
   "cell_type": "code",
   "execution_count": 1,
   "id": "05e1c68e-96be-4a81-b03b-330dcc078971",
   "metadata": {},
   "outputs": [],
   "source": [
    "import numpy as np\n",
    "import pandas as pd\n",
    "import scipy.stats as stats\n",
    "import statsmodels.api as sm\n",
    "import matplotlib.pyplot as plt"
   ]
  },
  {
   "cell_type": "code",
   "execution_count": 2,
   "id": "96dfd0da-5347-4aba-ba06-f9f79fa54e43",
   "metadata": {},
   "outputs": [
    {
     "data": {
      "text/html": [
       "<div>\n",
       "<style scoped>\n",
       "    .dataframe tbody tr th:only-of-type {\n",
       "        vertical-align: middle;\n",
       "    }\n",
       "\n",
       "    .dataframe tbody tr th {\n",
       "        vertical-align: top;\n",
       "    }\n",
       "\n",
       "    .dataframe thead th {\n",
       "        text-align: right;\n",
       "    }\n",
       "</style>\n",
       "<table border=\"1\" class=\"dataframe\">\n",
       "  <thead>\n",
       "    <tr style=\"text-align: right;\">\n",
       "      <th></th>\n",
       "      <th>Observed Values</th>\n",
       "      <th>East</th>\n",
       "      <th>West</th>\n",
       "      <th>North</th>\n",
       "      <th>South</th>\n",
       "    </tr>\n",
       "  </thead>\n",
       "  <tbody>\n",
       "    <tr>\n",
       "      <th>0</th>\n",
       "      <td>Males</td>\n",
       "      <td>50</td>\n",
       "      <td>142</td>\n",
       "      <td>131</td>\n",
       "      <td>70</td>\n",
       "    </tr>\n",
       "    <tr>\n",
       "      <th>1</th>\n",
       "      <td>Females</td>\n",
       "      <td>435</td>\n",
       "      <td>1523</td>\n",
       "      <td>1356</td>\n",
       "      <td>750</td>\n",
       "    </tr>\n",
       "  </tbody>\n",
       "</table>\n",
       "</div>"
      ],
      "text/plain": [
       "  Observed Values  East  West  North  South\n",
       "0           Males    50   142    131     70\n",
       "1         Females   435  1523   1356    750"
      ]
     },
     "execution_count": 2,
     "metadata": {},
     "output_type": "execute_result"
    }
   ],
   "source": [
    "# Loading Dataset\n",
    "buyer = pd.read_csv('BuyerRatio.csv')\n",
    "buyer.head()"
   ]
  },
  {
   "cell_type": "code",
   "execution_count": 4,
   "id": "9568f5c5-a66b-49e8-a7c9-e04d5464e46e",
   "metadata": {},
   "outputs": [],
   "source": [
    "c_table = [[50,142,131,70],\n",
    "        [435,1523,1356,750]]"
   ]
  },
  {
   "cell_type": "code",
   "execution_count": null,
   "id": "291de737-4d02-418a-b31f-e6112550f594",
   "metadata": {},
   "outputs": [],
   "source": [
    "# Define the null hypothesis\n",
    "H0: 'Male-female buyer rations are similar across regions.'"
   ]
  },
  {
   "cell_type": "code",
   "execution_count": null,
   "id": "456ceac1-2990-40f6-8f8e-6b5fdeb81ecc",
   "metadata": {},
   "outputs": [],
   "source": [
    "# Define the alternative hypothesis\n",
    "H1: 'Male-female buyer rations are not similar across regions.'"
   ]
  },
  {
   "cell_type": "code",
   "execution_count": 7,
   "id": "327e718b-7227-4a42-bf92-c60da146b34f",
   "metadata": {},
   "outputs": [
    {
     "name": "stdout",
     "output_type": "stream",
     "text": [
      "Chi-square statistic: 1.595945538661058\n",
      "P-value: 0.6603094907091882\n",
      "Degrees of freedom: 3\n",
      "Expected frequencies: [[  42.76531299  146.81287862  131.11756787   72.30424052]\n",
      " [ 442.23468701 1518.18712138 1355.88243213  747.69575948]]\n"
     ]
    }
   ],
   "source": [
    "# Perform chi-square test for independence\n",
    "chi2, p, df, expected = stats.chi2_contingency(c_table)\n",
    "\n",
    "# Print results\n",
    "print(\"Chi-square statistic:\", chi2)\n",
    "print(\"P-value:\", p)\n",
    "print(\"Degrees of freedom:\", df)\n",
    "print(\"Expected frequencies:\", expected)"
   ]
  },
  {
   "cell_type": "code",
   "execution_count": 8,
   "id": "d3d18d5f-3f74-419e-8e48-489ed3edeab9",
   "metadata": {},
   "outputs": [
    {
     "name": "stdout",
     "output_type": "stream",
     "text": [
      "Fail to reject the null hypothesis.\n"
     ]
    }
   ],
   "source": [
    "# Interpret Results\n",
    "alpha = 0.05\n",
    "if p < alpha:\n",
    "    print(\"Reject the null hypothesis.\")\n",
    "else:\n",
    "    print(\"Fail to reject the null hypothesis.\")"
   ]
  }
 ],
 "metadata": {
  "kernelspec": {
   "display_name": "Python 3 (ipykernel)",
   "language": "python",
   "name": "python3"
  },
  "language_info": {
   "codemirror_mode": {
    "name": "ipython",
    "version": 3
   },
   "file_extension": ".py",
   "mimetype": "text/x-python",
   "name": "python",
   "nbconvert_exporter": "python",
   "pygments_lexer": "ipython3",
   "version": "3.11.5"
  }
 },
 "nbformat": 4,
 "nbformat_minor": 5
}
