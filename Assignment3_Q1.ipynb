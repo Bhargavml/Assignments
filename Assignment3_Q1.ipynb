{
 "cells": [
  {
   "cell_type": "markdown",
   "id": "6a5e105d-f07d-44e0-873e-49b50742d52c",
   "metadata": {},
   "source": [
    "#### 1Q) A F&B manager wants to determine whether there is any significant difference in the diameter of the cutlet between two units. A randomly selected sample of cutlets was collected from both units and measured? Analyze the data and draw inferences at 5% significance level. Please state the assumptions and tests that you carried out to check validity of the assumptions."
   ]
  },
  {
   "cell_type": "markdown",
   "id": "b9487976-b6bf-49ea-ba3a-b54a675b3eac",
   "metadata": {},
   "source": [
    "### Assumptions:\n",
    "    Random Sampling: The cutlets are randomly selected from both units.\n",
    "    \n",
    "    Independence: The diameter measurements of the cutlets from one unit are independent of the measurements from the other unit.\n",
    "    \n",
    "    Normality: The diameter measurements follow a normal distribution within each unit. We can check this assumption using a normality test like the Shapiro-Wilk test.\n",
    "    \n",
    "    Equal Variances: The variance of diameter measurements is equal between the two units. We can check this assumption using a F-test."
   ]
  },
  {
   "cell_type": "code",
   "execution_count": 1,
   "id": "90312b27-8eb9-46d0-91d6-9ba50162ddaa",
   "metadata": {},
   "outputs": [],
   "source": [
    "import numpy as np\n",
    "import pandas as pd\n",
    "import scipy.stats as stats"
   ]
  },
  {
   "cell_type": "code",
   "execution_count": 2,
   "id": "c91df45d-d0e5-4cb1-8a5b-39464d4bb261",
   "metadata": {},
   "outputs": [
    {
     "data": {
      "text/html": [
       "<div>\n",
       "<style scoped>\n",
       "    .dataframe tbody tr th:only-of-type {\n",
       "        vertical-align: middle;\n",
       "    }\n",
       "\n",
       "    .dataframe tbody tr th {\n",
       "        vertical-align: top;\n",
       "    }\n",
       "\n",
       "    .dataframe thead th {\n",
       "        text-align: right;\n",
       "    }\n",
       "</style>\n",
       "<table border=\"1\" class=\"dataframe\">\n",
       "  <thead>\n",
       "    <tr style=\"text-align: right;\">\n",
       "      <th></th>\n",
       "      <th>Unit A</th>\n",
       "      <th>Unit B</th>\n",
       "    </tr>\n",
       "  </thead>\n",
       "  <tbody>\n",
       "    <tr>\n",
       "      <th>0</th>\n",
       "      <td>6.8090</td>\n",
       "      <td>6.7703</td>\n",
       "    </tr>\n",
       "    <tr>\n",
       "      <th>1</th>\n",
       "      <td>6.4376</td>\n",
       "      <td>7.5093</td>\n",
       "    </tr>\n",
       "    <tr>\n",
       "      <th>2</th>\n",
       "      <td>6.9157</td>\n",
       "      <td>6.7300</td>\n",
       "    </tr>\n",
       "    <tr>\n",
       "      <th>3</th>\n",
       "      <td>7.3012</td>\n",
       "      <td>6.7878</td>\n",
       "    </tr>\n",
       "    <tr>\n",
       "      <th>4</th>\n",
       "      <td>7.4488</td>\n",
       "      <td>7.1522</td>\n",
       "    </tr>\n",
       "  </tbody>\n",
       "</table>\n",
       "</div>"
      ],
      "text/plain": [
       "   Unit A  Unit B\n",
       "0  6.8090  6.7703\n",
       "1  6.4376  7.5093\n",
       "2  6.9157  6.7300\n",
       "3  7.3012  6.7878\n",
       "4  7.4488  7.1522"
      ]
     },
     "execution_count": 2,
     "metadata": {},
     "output_type": "execute_result"
    }
   ],
   "source": [
    "# Loading Dataset\n",
    "cutlets = pd.read_csv('Cutlets.csv')\n",
    "cutlets.head()"
   ]
  },
  {
   "cell_type": "code",
   "execution_count": 3,
   "id": "ba2724db-3a12-4269-b098-0e30175d5ea0",
   "metadata": {},
   "outputs": [
    {
     "name": "stdout",
     "output_type": "stream",
     "text": [
      "p_unit A : 0.3199819028377533\n",
      "p_unit B : 0.5225092768669128\n"
     ]
    }
   ],
   "source": [
    "# Shapiro-Wilk test for normality\n",
    "sw_stat_unitA, sw_p_unitA = stats.shapiro(cutlets['Unit A'])\n",
    "sw_stat_unitB, sw_p_unitB = stats.shapiro(cutlets['Unit B'])\n",
    "\n",
    "# Print Shapiro-Wilk test results\n",
    "print('p_unit A :', sw_p_unitA)\n",
    "print('p_unit B :', sw_p_unitB)"
   ]
  },
  {
   "cell_type": "code",
   "execution_count": 4,
   "id": "d3f338e8-3374-496a-8d17-dbfddbae3bbf",
   "metadata": {},
   "outputs": [
    {
     "name": "stdout",
     "output_type": "stream",
     "text": [
      "F-test (ANOVA), p_value = 0.47223947245995734\n"
     ]
    }
   ],
   "source": [
    "# Perform F-test for equal variances\n",
    "f_statistic, f_pvalue = stats.f_oneway(cutlets['Unit A'], cutlets['Unit B'])\n",
    "\n",
    "# Print F-test results\n",
    "print(\"F-test (ANOVA), p_value =\", f_pvalue)"
   ]
  },
  {
   "cell_type": "code",
   "execution_count": 5,
   "id": "8d8375db-b5f7-4b38-b725-496eea55bc42",
   "metadata": {},
   "outputs": [],
   "source": [
    "# Define the null hypothesis\n",
    "H0 = 'There is no significant difference in the mean diameter of cutlets between the two units.'"
   ]
  },
  {
   "cell_type": "code",
   "execution_count": 6,
   "id": "3a05b0af-3728-46c2-89ea-7776e2e5876c",
   "metadata": {},
   "outputs": [],
   "source": [
    "# Define the alternative hypothesis\n",
    "H1 = 'There is a significant difference in the mean diameter of cutlets between the two units.'"
   ]
  },
  {
   "cell_type": "code",
   "execution_count": 7,
   "id": "63d5feb1-d350-4571-b464-9ea90335844b",
   "metadata": {},
   "outputs": [
    {
     "name": "stdout",
     "output_type": "stream",
     "text": [
      "Test statistic = 0.7228688704678063\n",
      "p_value = 0.4722394724599501\n"
     ]
    }
   ],
   "source": [
    "# Check Assumptions\n",
    "if sw_p_unitA > 0.05 and sw_p_unitB > 0.05 and f_pvalue > 0.05:\n",
    "    \n",
    "    # Calculate the test statistic\n",
    "    t_stat, p_value = stats.ttest_ind(cutlets['Unit A'],cutlets['Unit B'])\n",
    "\n",
    "# Print the results\n",
    "print(\"Test statistic =\", t_stat)\n",
    "print(\"p_value =\", p_value)"
   ]
  },
  {
   "cell_type": "code",
   "execution_count": 9,
   "id": "2cdfe2d8-de8a-4c6b-b697-2acd00cc8ba8",
   "metadata": {},
   "outputs": [
    {
     "name": "stdout",
     "output_type": "stream",
     "text": [
      "Fail to reject the null hypothesis.\n"
     ]
    }
   ],
   "source": [
    "# Conclusion\n",
    "if p_value < 0.05:\n",
    "    print(\"Reject the null hypothesis.\")\n",
    "else:\n",
    "    print(\"Fail to reject the null hypothesis.\")"
   ]
  }
 ],
 "metadata": {
  "kernelspec": {
   "display_name": "Python 3 (ipykernel)",
   "language": "python",
   "name": "python3"
  },
  "language_info": {
   "codemirror_mode": {
    "name": "ipython",
    "version": 3
   },
   "file_extension": ".py",
   "mimetype": "text/x-python",
   "name": "python",
   "nbconvert_exporter": "python",
   "pygments_lexer": "ipython3",
   "version": "3.11.5"
  }
 },
 "nbformat": 4,
 "nbformat_minor": 5
}
