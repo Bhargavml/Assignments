{
 "cells": [
  {
   "cell_type": "markdown",
   "id": "66ad9de3-d2dd-4759-b569-7bbfc06d4cf4",
   "metadata": {},
   "source": [
    "# Importing Relevant Libraries"
   ]
  },
  {
   "cell_type": "code",
   "execution_count": 1,
   "id": "619b0395-be6a-46cd-99e6-04cca5b8369f",
   "metadata": {},
   "outputs": [],
   "source": [
    "import pandas as pd\n",
    "import numpy as np\n",
    "import statsmodels.formula.api as smf\n",
    "import matplotlib.pyplot as plt\n",
    "%matplotlib inline"
   ]
  },
  {
   "cell_type": "markdown",
   "id": "f2bab64a-7e48-4bf1-9167-ddf4868a6b9a",
   "metadata": {},
   "source": [
    "# Importing Data and Prepare"
   ]
  },
  {
   "cell_type": "code",
   "execution_count": 2,
   "id": "adf33f46-34c4-4636-9ed4-b9d0b431c6d0",
   "metadata": {},
   "outputs": [
    {
     "data": {
      "text/html": [
       "<div>\n",
       "<style scoped>\n",
       "    .dataframe tbody tr th:only-of-type {\n",
       "        vertical-align: middle;\n",
       "    }\n",
       "\n",
       "    .dataframe tbody tr th {\n",
       "        vertical-align: top;\n",
       "    }\n",
       "\n",
       "    .dataframe thead th {\n",
       "        text-align: right;\n",
       "    }\n",
       "</style>\n",
       "<table border=\"1\" class=\"dataframe\">\n",
       "  <thead>\n",
       "    <tr style=\"text-align: right;\">\n",
       "      <th></th>\n",
       "      <th>YearsExperience</th>\n",
       "      <th>Salary</th>\n",
       "    </tr>\n",
       "  </thead>\n",
       "  <tbody>\n",
       "    <tr>\n",
       "      <th>0</th>\n",
       "      <td>1.1</td>\n",
       "      <td>39343.0</td>\n",
       "    </tr>\n",
       "    <tr>\n",
       "      <th>1</th>\n",
       "      <td>1.3</td>\n",
       "      <td>46205.0</td>\n",
       "    </tr>\n",
       "    <tr>\n",
       "      <th>2</th>\n",
       "      <td>1.5</td>\n",
       "      <td>37731.0</td>\n",
       "    </tr>\n",
       "    <tr>\n",
       "      <th>3</th>\n",
       "      <td>2.0</td>\n",
       "      <td>43525.0</td>\n",
       "    </tr>\n",
       "    <tr>\n",
       "      <th>4</th>\n",
       "      <td>2.2</td>\n",
       "      <td>39891.0</td>\n",
       "    </tr>\n",
       "  </tbody>\n",
       "</table>\n",
       "</div>"
      ],
      "text/plain": [
       "   YearsExperience   Salary\n",
       "0              1.1  39343.0\n",
       "1              1.3  46205.0\n",
       "2              1.5  37731.0\n",
       "3              2.0  43525.0\n",
       "4              2.2  39891.0"
      ]
     },
     "execution_count": 2,
     "metadata": {},
     "output_type": "execute_result"
    }
   ],
   "source": [
    "df = pd.read_csv('Salary_Data.csv')\n",
    "df.head()"
   ]
  },
  {
   "cell_type": "code",
   "execution_count": 3,
   "id": "ec170214-7d68-4cf1-86c7-28bacb4f6314",
   "metadata": {},
   "outputs": [
    {
     "name": "stdout",
     "output_type": "stream",
     "text": [
      "<class 'pandas.core.frame.DataFrame'>\n",
      "RangeIndex: 30 entries, 0 to 29\n",
      "Data columns (total 2 columns):\n",
      " #   Column           Non-Null Count  Dtype  \n",
      "---  ------           --------------  -----  \n",
      " 0   YearsExperience  30 non-null     float64\n",
      " 1   Salary           30 non-null     float64\n",
      "dtypes: float64(2)\n",
      "memory usage: 612.0 bytes\n"
     ]
    }
   ],
   "source": [
    "df.info()"
   ]
  },
  {
   "cell_type": "code",
   "execution_count": 4,
   "id": "e443e71c-962e-4443-9a00-f7a899f3fb34",
   "metadata": {},
   "outputs": [],
   "source": [
    "# Create a DataFrame to store the results\n",
    "results = pd.DataFrame(columns=['Transformation', 'R-squared', 'Intercept', 'Coefficient'])"
   ]
  },
  {
   "cell_type": "code",
   "execution_count": 5,
   "id": "de8fc54b-00f2-4b62-a181-64c93c0e369a",
   "metadata": {},
   "outputs": [
    {
     "data": {
      "text/plain": [
       "Text(0, 0.5, 'Salary')"
      ]
     },
     "execution_count": 5,
     "metadata": {},
     "output_type": "execute_result"
    },
    {
     "data": {
      "image/png": "[encoded data removed]",
      "text/plain": [
       "<Figure size 640x480 with 1 Axes>"
      ]
     },
     "metadata": {},
     "output_type": "display_data"
    }
   ],
   "source": [
    "# check whether there is a linear pattren between X and y\n",
    "plt.scatter(df.YearsExperience,df.Salary)\n",
    "plt.xlabel('YearsExperience')\n",
    "plt.ylabel(\"Salary\")"
   ]
  },
  {
   "cell_type": "markdown",
   "id": "06e4dd53-31a8-448e-be13-cbcd6848baa1",
   "metadata": {},
   "source": [
    "# Fitting a SLR Model with Different Transformations"
   ]
  },
  {
   "cell_type": "code",
   "execution_count": 6,
   "id": "91d96fd9-84db-4cfa-9ed0-ceb6cf6e1d48",
   "metadata": {},
   "outputs": [
    {
     "name": "stderr",
     "output_type": "stream",
     "text": [
      "/var/folders/d7/624qzhlx7051pksqzldlx5fh0000gn/T/ipykernel_36294/954321714.py:7: FutureWarning: Series.__getitem__ treating keys as positions is deprecated. In a future version, integer keys will always be treated as labels (consistent with DataFrame behavior). To access a value by position, use `ser.iloc[pos]`\n",
      "  results.loc[0] = ['Original', model_result.rsquared, model_result.params[0], model_result.params[1]]\n"
     ]
    }
   ],
   "source": [
    "# Original data\n",
    "X = df['YearsExperience']\n",
    "\n",
    "model = smf.ols( 'Salary~YearsExperience', data = df)\n",
    "model_result = model.fit()\n",
    "\n",
    "results.loc[0] = ['Original', model_result.rsquared, model_result.params[0], model_result.params[1]]"
   ]
  },
  {
   "cell_type": "code",
   "execution_count": 7,
   "id": "9c2b3ad9-2ac4-43ba-a1c2-2a0f3f6060af",
   "metadata": {},
   "outputs": [
    {
     "name": "stderr",
     "output_type": "stream",
     "text": [
      "/var/folders/d7/624qzhlx7051pksqzldlx5fh0000gn/T/ipykernel_36294/2562298051.py:8: FutureWarning: Series.__getitem__ treating keys as positions is deprecated. In a future version, integer keys will always be treated as labels (consistent with DataFrame behavior). To access a value by position, use `ser.iloc[pos]`\n",
      "  results.loc[1] = ['Standard Scaling', model_st_result.rsquared, model_st_result.params[0], model_st_result.params[1]]\n"
     ]
    }
   ],
   "source": [
    "# Standard Scaling\n",
    "df1 = df.copy()\n",
    "df1['X_scaled'] = (X - X.mean()) / X.std()\n",
    "\n",
    "model_st = smf.ols( 'Salary~X_scaled', data = df1)\n",
    "model_st_result = model_st.fit()\n",
    "\n",
    "results.loc[1] = ['Standard Scaling', model_st_result.rsquared, model_st_result.params[0], model_st_result.params[1]]"
   ]
  },
  {
   "cell_type": "code",
   "execution_count": 8,
   "id": "5129315e-4040-4a61-a05c-e53e9d36577d",
   "metadata": {},
   "outputs": [
    {
     "name": "stderr",
     "output_type": "stream",
     "text": [
      "/var/folders/d7/624qzhlx7051pksqzldlx5fh0000gn/T/ipykernel_36294/179935853.py:8: FutureWarning: Series.__getitem__ treating keys as positions is deprecated. In a future version, integer keys will always be treated as labels (consistent with DataFrame behavior). To access a value by position, use `ser.iloc[pos]`\n",
      "  results.loc[2] = ['Log Transformation', model_log_result.rsquared, model_log_result.params[0], model_log_result.params[1]]\n"
     ]
    }
   ],
   "source": [
    "# Log Transformation\n",
    "df2=df.copy()\n",
    "df2['X_log'] = np.log(X)\n",
    "\n",
    "model_log = smf.ols( 'Salary~X_log', data = df2)\n",
    "model_log_result = model.fit()\n",
    "\n",
    "results.loc[2] = ['Log Transformation', model_log_result.rsquared, model_log_result.params[0], model_log_result.params[1]]"
   ]
  },
  {
   "cell_type": "code",
   "execution_count": 9,
   "id": "6b498404-be8e-4320-bc36-2cbb3e8e74e9",
   "metadata": {},
   "outputs": [
    {
     "name": "stderr",
     "output_type": "stream",
     "text": [
      "/var/folders/d7/624qzhlx7051pksqzldlx5fh0000gn/T/ipykernel_36294/752097958.py:8: FutureWarning: Series.__getitem__ treating keys as positions is deprecated. In a future version, integer keys will always be treated as labels (consistent with DataFrame behavior). To access a value by position, use `ser.iloc[pos]`\n",
      "  results.loc[3] = ['Square Root Transformation', model_sqrt_result.rsquared, model_sqrt_result.params[0], model_sqrt_result.params[1]]\n"
     ]
    }
   ],
   "source": [
    "# Square Root Transformation\n",
    "df3=df.copy()\n",
    "df3['X_sqrt'] = np.sqrt(X)\n",
    "\n",
    "model_sqrt = smf.ols( 'Salary~X_sqrt', data = df3)\n",
    "model_sqrt_result = model.fit()\n",
    "\n",
    "results.loc[3] = ['Square Root Transformation', model_sqrt_result.rsquared, model_sqrt_result.params[0], model_sqrt_result.params[1]]"
   ]
  },
  {
   "cell_type": "code",
   "execution_count": 10,
   "id": "5e0bab28-264c-40d8-bea6-c6c1a39a4b49",
   "metadata": {},
   "outputs": [
    {
     "name": "stderr",
     "output_type": "stream",
     "text": [
      "/var/folders/d7/624qzhlx7051pksqzldlx5fh0000gn/T/ipykernel_36294/630770758.py:8: FutureWarning: Series.__getitem__ treating keys as positions is deprecated. In a future version, integer keys will always be treated as labels (consistent with DataFrame behavior). To access a value by position, use `ser.iloc[pos]`\n",
      "  results.loc[4] = ['Reciprocal Transformation', model_reciprocal_result.rsquared, model_reciprocal_result.params[0], model_reciprocal_result.params[1]]\n"
     ]
    }
   ],
   "source": [
    "# Reciprocal Transformation\n",
    "df4=df.copy()\n",
    "df4['X_reciprocal'] = 1 / X\n",
    "\n",
    "model_reciprocal = smf.ols( 'Salary~X_reciprocal', data = df4)\n",
    "model_reciprocal_result = model.fit()\n",
    "\n",
    "results.loc[4] = ['Reciprocal Transformation', model_reciprocal_result.rsquared, model_reciprocal_result.params[0], model_reciprocal_result.params[1]]"
   ]
  },
  {
   "cell_type": "markdown",
   "id": "cd029f2d-ffdb-42f6-952b-b96b7728c72f",
   "metadata": {},
   "source": [
    "# Results"
   ]
  },
  {
   "cell_type": "code",
   "execution_count": 56,
   "id": "d927ff8b-1dfb-4eda-98ee-02f6c97a867e",
   "metadata": {},
   "outputs": [
    {
     "data": {
      "text/html": [
       "<div>\n",
       "<style scoped>\n",
       "    .dataframe tbody tr th:only-of-type {\n",
       "        vertical-align: middle;\n",
       "    }\n",
       "\n",
       "    .dataframe tbody tr th {\n",
       "        vertical-align: top;\n",
       "    }\n",
       "\n",
       "    .dataframe thead th {\n",
       "        text-align: right;\n",
       "    }\n",
       "</style>\n",
       "<table border=\"1\" class=\"dataframe\">\n",
       "  <thead>\n",
       "    <tr style=\"text-align: right;\">\n",
       "      <th></th>\n",
       "      <th>Transformation</th>\n",
       "      <th>R-squared</th>\n",
       "      <th>Intercept</th>\n",
       "      <th>Coefficient</th>\n",
       "    </tr>\n",
       "  </thead>\n",
       "  <tbody>\n",
       "    <tr>\n",
       "      <th>0</th>\n",
       "      <td>Original</td>\n",
       "      <td>0.956957</td>\n",
       "      <td>25792.200199</td>\n",
       "      <td>9449.962321</td>\n",
       "    </tr>\n",
       "    <tr>\n",
       "      <th>1</th>\n",
       "      <td>Standard Scaling</td>\n",
       "      <td>0.956957</td>\n",
       "      <td>76003.000000</td>\n",
       "      <td>26817.936162</td>\n",
       "    </tr>\n",
       "    <tr>\n",
       "      <th>2</th>\n",
       "      <td>Log Transformation</td>\n",
       "      <td>0.956957</td>\n",
       "      <td>25792.200199</td>\n",
       "      <td>9449.962321</td>\n",
       "    </tr>\n",
       "    <tr>\n",
       "      <th>3</th>\n",
       "      <td>Square Root Transformation</td>\n",
       "      <td>0.956957</td>\n",
       "      <td>25792.200199</td>\n",
       "      <td>9449.962321</td>\n",
       "    </tr>\n",
       "    <tr>\n",
       "      <th>4</th>\n",
       "      <td>Reciprocal Transformation</td>\n",
       "      <td>0.956957</td>\n",
       "      <td>25792.200199</td>\n",
       "      <td>9449.962321</td>\n",
       "    </tr>\n",
       "  </tbody>\n",
       "</table>\n",
       "</div>"
      ],
      "text/plain": [
       "               Transformation  R-squared     Intercept   Coefficient\n",
       "0                    Original   0.956957  25792.200199   9449.962321\n",
       "1            Standard Scaling   0.956957  76003.000000  26817.936162\n",
       "2          Log Transformation   0.956957  25792.200199   9449.962321\n",
       "3  Square Root Transformation   0.956957  25792.200199   9449.962321\n",
       "4   Reciprocal Transformation   0.956957  25792.200199   9449.962321"
      ]
     },
     "execution_count": 56,
     "metadata": {},
     "output_type": "execute_result"
    }
   ],
   "source": [
    "results"
   ]
  },
  {
   "cell_type": "markdown",
   "id": "d801877d-b4ca-4d97-840d-459c1eeb3677",
   "metadata": {},
   "source": [
    "# Simple Linear Regression using Sklearn"
   ]
  },
  {
   "cell_type": "code",
   "execution_count": 57,
   "id": "108be8c8-236f-4125-b173-7b9b47610988",
   "metadata": {},
   "outputs": [],
   "source": [
    "from sklearn.model_selection import train_test_split\n",
    "from sklearn.linear_model import LinearRegression\n",
    "from sklearn.metrics import mean_squared_error, r2_score"
   ]
  },
  {
   "cell_type": "code",
   "execution_count": 51,
   "id": "869e9bad-9ddb-4d46-a2b5-d62d94e4d493",
   "metadata": {},
   "outputs": [],
   "source": [
    "X=df[['YearsExperience']]\n",
    "y=df[['Salary']]\n",
    "\n",
    "X_train, X_test, y_train, y_test = train_test_split(X, y, test_size=0.2, random_state=0)"
   ]
  },
  {
   "cell_type": "code",
   "execution_count": 59,
   "id": "dbc26488-314e-4549-80a4-b063b961fa14",
   "metadata": {},
   "outputs": [
    {
     "data": {
      "text/html": [
       "<style>#sk-container-id-4 {color: black;background-color: white;}#sk-container-id-4 pre{padding: 0;}#sk-container-id-4 div.sk-toggleable {background-color: white;}#sk-container-id-4 label.sk-toggleable__label {cursor: pointer;display: block;width: 100%;margin-bottom: 0;padding: 0.3em;box-sizing: border-box;text-align: center;}#sk-container-id-4 label.sk-toggleable__label-arrow:before {content: \"▸\";float: left;margin-right: 0.25em;color: #696969;}#sk-container-id-4 label.sk-toggleable__label-arrow:hover:before {color: black;}#sk-container-id-4 div.sk-estimator:hover label.sk-toggleable__label-arrow:before {color: black;}#sk-container-id-4 div.sk-toggleable__content {max-height: 0;max-width: 0;overflow: hidden;text-align: left;background-color: #f0f8ff;}#sk-container-id-4 div.sk-toggleable__content pre {margin: 0.2em;color: black;border-radius: 0.25em;background-color: #f0f8ff;}#sk-container-id-4 input.sk-toggleable__control:checked~div.sk-toggleable__content {max-height: 200px;max-width: 100%;overflow: auto;}#sk-container-id-4 input.sk-toggleable__control:checked~label.sk-toggleable__label-arrow:before {content: \"▾\";}#sk-container-id-4 div.sk-estimator input.sk-toggleable__control:checked~label.sk-toggleable__label {background-color: #d4ebff;}#sk-container-id-4 div.sk-label input.sk-toggleable__control:checked~label.sk-toggleable__label {background-color: #d4ebff;}#sk-container-id-4 input.sk-hidden--visually {border: 0;clip: rect(1px 1px 1px 1px);clip: rect(1px, 1px, 1px, 1px);height: 1px;margin: -1px;overflow: hidden;padding: 0;position: absolute;width: 1px;}#sk-container-id-4 div.sk-estimator {font-family: monospace;background-color: #f0f8ff;border: 1px dotted black;border-radius: 0.25em;box-sizing: border-box;margin-bottom: 0.5em;}#sk-container-id-4 div.sk-estimator:hover {background-color: #d4ebff;}#sk-container-id-4 div.sk-parallel-item::after {content: \"\";width: 100%;border-bottom: 1px solid gray;flex-grow: 1;}#sk-container-id-4 div.sk-label:hover label.sk-toggleable__label {background-color: #d4ebff;}#sk-container-id-4 div.sk-serial::before {content: \"\";position: absolute;border-left: 1px solid gray;box-sizing: border-box;top: 0;bottom: 0;left: 50%;z-index: 0;}#sk-container-id-4 div.sk-serial {display: flex;flex-direction: column;align-items: center;background-color: white;padding-right: 0.2em;padding-left: 0.2em;position: relative;}#sk-container-id-4 div.sk-item {position: relative;z-index: 1;}#sk-container-id-4 div.sk-parallel {display: flex;align-items: stretch;justify-content: center;background-color: white;position: relative;}#sk-container-id-4 div.sk-item::before, #sk-container-id-4 div.sk-parallel-item::before {content: \"\";position: absolute;border-left: 1px solid gray;box-sizing: border-box;top: 0;bottom: 0;left: 50%;z-index: -1;}#sk-container-id-4 div.sk-parallel-item {display: flex;flex-direction: column;z-index: 1;position: relative;background-color: white;}#sk-container-id-4 div.sk-parallel-item:first-child::after {align-self: flex-end;width: 50%;}#sk-container-id-4 div.sk-parallel-item:last-child::after {align-self: flex-start;width: 50%;}#sk-container-id-4 div.sk-parallel-item:only-child::after {width: 0;}#sk-container-id-4 div.sk-dashed-wrapped {border: 1px dashed gray;margin: 0 0.4em 0.5em 0.4em;box-sizing: border-box;padding-bottom: 0.4em;background-color: white;}#sk-container-id-4 div.sk-label label {font-family: monospace;font-weight: bold;display: inline-block;line-height: 1.2em;}#sk-container-id-4 div.sk-label-container {text-align: center;}#sk-container-id-4 div.sk-container {/* jupyter's `normalize.less` sets `[hidden] { display: none; }` but bootstrap.min.css set `[hidden] { display: none !important; }` so we also need the `!important` here to be able to override the default hidden behavior on the sphinx rendered scikit-learn.org. See: https://github.com/scikit-learn/scikit-learn/issues/21755 */display: inline-block !important;position: relative;}#sk-container-id-4 div.sk-text-repr-fallback {display: none;}</style><div id=\"sk-container-id-4\" class=\"sk-top-container\"><div class=\"sk-text-repr-fallback\"><pre>LinearRegression()</pre><b>In a Jupyter environment, please rerun this cell to show the HTML representation or trust the notebook. <br />On GitHub, the HTML representation is unable to render, please try loading this page with nbviewer.org.</b></div><div class=\"sk-container\" hidden><div class=\"sk-item\"><div class=\"sk-estimator sk-toggleable\"><input class=\"sk-toggleable__control sk-hidden--visually\" id=\"sk-estimator-id-4\" type=\"checkbox\" checked><label for=\"sk-estimator-id-4\" class=\"sk-toggleable__label sk-toggleable__label-arrow\">LinearRegression</label><div class=\"sk-toggleable__content\"><pre>LinearRegression()</pre></div></div></div></div></div>"
      ],
      "text/plain": [
       "LinearRegression()"
      ]
     },
     "execution_count": 59,
     "metadata": {},
     "output_type": "execute_result"
    }
   ],
   "source": [
    "# Initialize and fit the model on the training data\n",
    "lr_model = LinearRegression()\n",
    "lr_model.fit(X_train, y_train)"
   ]
  },
  {
   "cell_type": "code",
   "execution_count": 53,
   "id": "36fce691-cf9e-4933-9bd8-6f282dad0731",
   "metadata": {},
   "outputs": [],
   "source": [
    "# Predict on the testing data \n",
    "y_pred = lr_model.predict(X_test)"
   ]
  },
  {
   "cell_type": "code",
   "execution_count": 54,
   "id": "f825e3cf-73a7-4768-a40a-aba5653f0eaf",
   "metadata": {},
   "outputs": [
    {
     "name": "stdout",
     "output_type": "stream",
     "text": [
      "Mean Squared Error: 12823412.298126506\n"
     ]
    }
   ],
   "source": [
    "# Evaluate the model\n",
    "mse = mean_squared_error(y_test, y_pred)\n",
    "print(\"Mean Squared Error:\", mse)"
   ]
  },
  {
   "cell_type": "code",
   "execution_count": 55,
   "id": "34d7da32-770e-49de-a6a9-8988452dea9c",
   "metadata": {},
   "outputs": [
    {
     "name": "stdout",
     "output_type": "stream",
     "text": [
      "Coefficients: [[9312.57512673]]\n",
      "Intercept: [26780.09915063]\n",
      "R-squared Score: 0.988169515729126\n"
     ]
    }
   ],
   "source": [
    "print('Coefficients:', lr_model.coef_)\n",
    "print('Intercept:', lr_model.intercept_)\n",
    "print('R-squared Score:', r2_score(y_test, y_pred))"
   ]
  },
  {
   "cell_type": "code",
   "execution_count": 48,
   "id": "ab0f6bcb-bef0-4fda-ab23-da4f5478d1bb",
   "metadata": {},
   "outputs": [
    {
     "data": {
      "image/png": "[encoded data removed]",
      "text/plain": [
       "<Figure size 640x480 with 1 Axes>"
      ]
     },
     "metadata": {},
     "output_type": "display_data"
    }
   ],
   "source": [
    "# Plot actual vs. predicted\n",
    "plt.scatter(y_test, y_pred, color='blue')\n",
    "plt.title('Actual vs. Predicted')\n",
    "plt.xlabel('Actual Values')\n",
    "plt.ylabel('Predicted Values')\n",
    "plt.show()"
   ]
  }
 ],
 "metadata": {
  "kernelspec": {
   "display_name": "Python 3 (ipykernel)",
   "language": "python",
   "name": "python3"
  },
  "language_info": {
   "codemirror_mode": {
    "name": "ipython",
    "version": 3
   },
   "file_extension": ".py",
   "mimetype": "text/x-python",
   "name": "python",
   "nbconvert_exporter": "python",
   "pygments_lexer": "ipython3",
   "version": "3.11.5"
  }
 },
 "nbformat": 4,
 "nbformat_minor": 5
}
